{
 "cells": [
  {
   "cell_type": "code",
   "execution_count": 1,
   "id": "2b6f702b",
   "metadata": {},
   "outputs": [
    {
     "name": "stdout",
     "output_type": "stream",
     "text": [
      "Please enter the stringPurushothaman\n"
     ]
    }
   ],
   "source": [
    "## Get input from the user and print that input in interval of 1 string skip:\n",
    "a = input(\"Please enter the string\")\n",
    "odd_list = []\n",
    "even_list = []\n",
    "b= len(a)"
   ]
  },
  {
   "cell_type": "code",
   "execution_count": 2,
   "id": "b435a075",
   "metadata": {},
   "outputs": [],
   "source": [
    "if a.isalpha() == True:\n",
    "    for i in range(len(a)):\n",
    "        if i%2 == 0:\n",
    "            even_list.append(a[i])\n",
    "        else:\n",
    "            odd_list.append(a[i])\n",
    "else:\n",
    "    print(\"Please enter the valid string\")\n"
   ]
  },
  {
   "cell_type": "code",
   "execution_count": 3,
   "id": "74f84e14",
   "metadata": {},
   "outputs": [
    {
     "name": "stdout",
     "output_type": "stream",
     "text": [
      "['P', 'r', 's', 'o', 'h', 'm', 'n']\n",
      "['u', 'u', 'h', 't', 'a', 'a']\n"
     ]
    }
   ],
   "source": [
    "print(even_list)\n",
    "print(odd_list)"
   ]
  },
  {
   "cell_type": "code",
   "execution_count": 4,
   "id": "d5980e06",
   "metadata": {},
   "outputs": [],
   "source": [
    "## Custom sort\n",
    "a = [5,6,1,4]\n",
    "c = 0"
   ]
  },
  {
   "cell_type": "code",
   "execution_count": 5,
   "id": "9ebda057",
   "metadata": {},
   "outputs": [],
   "source": [
    "for i in range(0,len(a)):\n",
    "    for j in range(0,len(a)):\n",
    "        if a[i] < a[j]:\n",
    "            c = a[i]\n",
    "            a[i] = a[j]\n",
    "            a[j] = c\n",
    "\n",
    "    \n",
    "   "
   ]
  },
  {
   "cell_type": "code",
   "execution_count": 6,
   "id": "b777d509",
   "metadata": {},
   "outputs": [
    {
     "name": "stdout",
     "output_type": "stream",
     "text": [
      "[1, 4, 5, 6]\n"
     ]
    }
   ],
   "source": [
    "print(a)"
   ]
  },
  {
   "cell_type": "code",
   "execution_count": 7,
   "id": "a8832725",
   "metadata": {},
   "outputs": [],
   "source": [
    "## fibonacci number\n",
    "a=0\n",
    "b=1\n",
    "fibonacci_list=[a,b]"
   ]
  },
  {
   "cell_type": "code",
   "execution_count": 8,
   "id": "55f5fa86",
   "metadata": {},
   "outputs": [
    {
     "name": "stdout",
     "output_type": "stream",
     "text": [
      "please enter a number:16\n"
     ]
    }
   ],
   "source": [
    "n = int(input (\"please enter a number:\"))"
   ]
  },
  {
   "cell_type": "code",
   "execution_count": 9,
   "id": "3fe2f830",
   "metadata": {},
   "outputs": [
    {
     "name": "stdout",
     "output_type": "stream",
     "text": [
      "\n"
     ]
    }
   ],
   "source": [
    "print()\n",
    "for i in range(0,n):\n",
    "    c = a+b\n",
    "    a=b\n",
    "    b=c\n",
    "    fibonacci_list.append(c)"
   ]
  },
  {
   "cell_type": "code",
   "execution_count": 10,
   "id": "05e25ee3",
   "metadata": {},
   "outputs": [
    {
     "name": "stdout",
     "output_type": "stream",
     "text": [
      "[0, 1, 1, 2, 3, 5, 8, 13, 21, 34, 55, 89, 144, 233, 377, 610, 987, 1597]\n"
     ]
    }
   ],
   "source": [
    "print(fibonacci_list)"
   ]
  },
  {
   "cell_type": "code",
   "execution_count": null,
   "id": "0f45ae86",
   "metadata": {},
   "outputs": [],
   "source": []
  },
  {
   "cell_type": "code",
   "execution_count": null,
   "id": "a171ce9c",
   "metadata": {},
   "outputs": [],
   "source": []
  }
 ],
 "metadata": {
  "kernelspec": {
   "display_name": "Python 3 (ipykernel)",
   "language": "python",
   "name": "python3"
  },
  "language_info": {
   "codemirror_mode": {
    "name": "ipython",
    "version": 3
   },
   "file_extension": ".py",
   "mimetype": "text/x-python",
   "name": "python",
   "nbconvert_exporter": "python",
   "pygments_lexer": "ipython3",
   "version": "3.10.9"
  }
 },
 "nbformat": 4,
 "nbformat_minor": 5
}
