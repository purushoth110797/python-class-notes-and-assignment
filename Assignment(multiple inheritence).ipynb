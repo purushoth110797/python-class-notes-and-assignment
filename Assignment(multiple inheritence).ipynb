{
 "cells": [
  {
   "cell_type": "code",
   "execution_count": 3,
   "id": "646bb2be",
   "metadata": {},
   "outputs": [],
   "source": [
    "\n",
    "\n",
    "class parent():\n",
    "    \n",
    "    def __init__(self):\n",
    "        self.name = \"Parent\"\n",
    "        \n",
    "class child(parent):\n",
    "    def __init__(self):\n",
    "        super().__init__()\n",
    "        self.demo = \"demo\"\n",
    "        \n",
    "    def test(self):\n",
    "        print(\"test\")\n",
    "        \n",
    "class grand_parent(child):\n",
    "    def __init__(self):\n",
    "        super().__init__()\n",
    "        self.try1 = \"Try\"\n",
    "        \n",
    "    def test1(self):\n",
    "        print(\"test1\")"
   ]
  },
  {
   "cell_type": "code",
   "execution_count": 4,
   "id": "a0a44b89",
   "metadata": {},
   "outputs": [
    {
     "name": "stdout",
     "output_type": "stream",
     "text": [
      "Parent\n",
      "demo\n",
      "test\n",
      "test1\n"
     ]
    }
   ],
   "source": [
    "a = grand_parent()\n",
    "print(a.name)\n",
    "print(a.demo)\n",
    "a.test()\n",
    "# print(try1)\n",
    "a.test1()"
   ]
  },
  {
   "cell_type": "code",
   "execution_count": 2,
   "id": "b47b6d0b",
   "metadata": {},
   "outputs": [
    {
     "name": "stdout",
     "output_type": "stream",
     "text": [
      "Please enter the number:11\n"
     ]
    }
   ],
   "source": [
    "n = int (input(\"Please enter the number:\"))\n",
    "a= 0"
   ]
  },
  {
   "cell_type": "code",
   "execution_count": 3,
   "id": "c6d3feb1",
   "metadata": {},
   "outputs": [],
   "source": [
    "while n >0:\n",
    "    a = a+1\n",
    "    if n%2 != 0:\n",
    "        n = n-1\n",
    "    elif n%2 ==0:\n",
    "        n = n/2\n",
    "   \n",
    "        \n"
   ]
  },
  {
   "cell_type": "code",
   "execution_count": 4,
   "id": "a7f2eee9",
   "metadata": {},
   "outputs": [
    {
     "name": "stdout",
     "output_type": "stream",
     "text": [
      "6\n"
     ]
    }
   ],
   "source": [
    "print(a)"
   ]
  },
  {
   "cell_type": "code",
   "execution_count": null,
   "id": "6f465087",
   "metadata": {},
   "outputs": [],
   "source": []
  },
  {
   "cell_type": "code",
   "execution_count": null,
   "id": "ebcdacc6",
   "metadata": {},
   "outputs": [],
   "source": []
  }
 ],
 "metadata": {
  "kernelspec": {
   "display_name": "Python 3 (ipykernel)",
   "language": "python",
   "name": "python3"
  },
  "language_info": {
   "codemirror_mode": {
    "name": "ipython",
    "version": 3
   },
   "file_extension": ".py",
   "mimetype": "text/x-python",
   "name": "python",
   "nbconvert_exporter": "python",
   "pygments_lexer": "ipython3",
   "version": "3.10.9"
  }
 },
 "nbformat": 4,
 "nbformat_minor": 5
}
