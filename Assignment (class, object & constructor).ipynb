{
 "cells": [
  {
   "cell_type": "code",
   "execution_count": 1,
   "id": "11251201",
   "metadata": {},
   "outputs": [],
   "source": [
    "## Create a calculator using constructor\n",
    "\n",
    "class calc():\n",
    "    \n",
    "    def __init__ (self,a,b):\n",
    "        self.a = a\n",
    "        self.b = b\n",
    "        \n",
    "    def add(self):\n",
    "        print(self.a + self.b)\n",
    "    def subtract(self):\n",
    "        print(self.a - self.b)\n",
    "    def multiply(self):\n",
    "        print(self.a * self.b)"
   ]
  },
  {
   "cell_type": "code",
   "execution_count": 5,
   "id": "35fc2f9e",
   "metadata": {},
   "outputs": [],
   "source": [
    "c = calc(5,6)\n"
   ]
  },
  {
   "cell_type": "code",
   "execution_count": 6,
   "id": "cfc80f8a",
   "metadata": {},
   "outputs": [
    {
     "name": "stdout",
     "output_type": "stream",
     "text": [
      "30\n"
     ]
    }
   ],
   "source": [
    "c.multiply()"
   ]
  },
  {
   "cell_type": "code",
   "execution_count": 7,
   "id": "02c02b8d",
   "metadata": {},
   "outputs": [
    {
     "name": "stdout",
     "output_type": "stream",
     "text": [
      "11\n"
     ]
    }
   ],
   "source": [
    "c.add()"
   ]
  },
  {
   "cell_type": "code",
   "execution_count": 8,
   "id": "f9567376",
   "metadata": {},
   "outputs": [
    {
     "name": "stdout",
     "output_type": "stream",
     "text": [
      "-1\n"
     ]
    }
   ],
   "source": [
    "c.subtract()"
   ]
  },
  {
   "cell_type": "code",
   "execution_count": 9,
   "id": "24ecce50",
   "metadata": {},
   "outputs": [],
   "source": [
    "d = calc(8,23)"
   ]
  },
  {
   "cell_type": "code",
   "execution_count": 13,
   "id": "0f56304c",
   "metadata": {},
   "outputs": [
    {
     "name": "stdout",
     "output_type": "stream",
     "text": [
      "31\n",
      "-15\n",
      "184\n"
     ]
    }
   ],
   "source": [
    "d.add()\n",
    "d.subtract()\n",
    "d.multiply()"
   ]
  },
  {
   "cell_type": "code",
   "execution_count": null,
   "id": "23623028",
   "metadata": {},
   "outputs": [],
   "source": []
  }
 ],
 "metadata": {
  "kernelspec": {
   "display_name": "Python 3 (ipykernel)",
   "language": "python",
   "name": "python3"
  },
  "language_info": {
   "codemirror_mode": {
    "name": "ipython",
    "version": 3
   },
   "file_extension": ".py",
   "mimetype": "text/x-python",
   "name": "python",
   "nbconvert_exporter": "python",
   "pygments_lexer": "ipython3",
   "version": "3.10.9"
  }
 },
 "nbformat": 4,
 "nbformat_minor": 5
}
