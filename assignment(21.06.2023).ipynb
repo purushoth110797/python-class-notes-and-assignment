{
 "cells": [
  {
   "cell_type": "code",
   "execution_count": 9,
   "id": "0201b31f",
   "metadata": {},
   "outputs": [],
   "source": [
    "## in function define the three arguments, but while calling  pass only two arguments and perform multiply\n",
    "\n",
    "def multiply(a = 1,b = 1, c = 1):\n",
    "    print(a*b*c)"
   ]
  },
  {
   "cell_type": "code",
   "execution_count": 10,
   "id": "23bd12d5",
   "metadata": {},
   "outputs": [
    {
     "name": "stdout",
     "output_type": "stream",
     "text": [
      "20\n"
     ]
    }
   ],
   "source": [
    "multiply(4,5)"
   ]
  },
  {
   "cell_type": "code",
   "execution_count": 11,
   "id": "817e0dc0",
   "metadata": {},
   "outputs": [
    {
     "name": "stdout",
     "output_type": "stream",
     "text": [
      "4\n"
     ]
    }
   ],
   "source": [
    "multiply(4)"
   ]
  },
  {
   "cell_type": "code",
   "execution_count": 12,
   "id": "3af3d96f",
   "metadata": {},
   "outputs": [
    {
     "name": "stdout",
     "output_type": "stream",
     "text": [
      "48\n"
     ]
    }
   ],
   "source": [
    "multiply(3,8,2)"
   ]
  },
  {
   "cell_type": "code",
   "execution_count": 17,
   "id": "4af168cf",
   "metadata": {},
   "outputs": [
    {
     "data": {
      "text/plain": [
       "'abcabcabcabcabc'"
      ]
     },
     "execution_count": 17,
     "metadata": {},
     "output_type": "execute_result"
    }
   ],
   "source": [
    "## write a lambda to multiply abc,5\n",
    "a = lambda a,b: (a*b)\n",
    "a(\"abc\",5)"
   ]
  },
  {
   "cell_type": "code",
   "execution_count": 59,
   "id": "c48841b8",
   "metadata": {},
   "outputs": [],
   "source": [
    "## get name, add, phone as kwargs, parse it  and print\n",
    "\n",
    "def user_det(**kwargs):\n",
    "    for i in kwargs.keys():\n",
    "        print(kwargs.get(i))"
   ]
  },
  {
   "cell_type": "code",
   "execution_count": 60,
   "id": "c178277b",
   "metadata": {},
   "outputs": [
    {
     "name": "stdout",
     "output_type": "stream",
     "text": [
      "mugesh\n",
      "9842676177\n",
      "chennai\n"
     ]
    }
   ],
   "source": [
    "user_det(name = \"mugesh\", phone_num = 9842676177, locality = \"chennai\")"
   ]
  },
  {
   "cell_type": "code",
   "execution_count": null,
   "id": "0998d41c",
   "metadata": {},
   "outputs": [],
   "source": []
  }
 ],
 "metadata": {
  "kernelspec": {
   "display_name": "Python 3 (ipykernel)",
   "language": "python",
   "name": "python3"
  },
  "language_info": {
   "codemirror_mode": {
    "name": "ipython",
    "version": 3
   },
   "file_extension": ".py",
   "mimetype": "text/x-python",
   "name": "python",
   "nbconvert_exporter": "python",
   "pygments_lexer": "ipython3",
   "version": "3.10.9"
  }
 },
 "nbformat": 4,
 "nbformat_minor": 5
}
