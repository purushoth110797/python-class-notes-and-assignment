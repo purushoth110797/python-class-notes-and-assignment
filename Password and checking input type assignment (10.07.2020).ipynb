{
 "cells": [
  {
   "cell_type": "code",
   "execution_count": 195,
   "id": "5675fbf1",
   "metadata": {},
   "outputs": [],
   "source": [
    "## Checking the password is alphanumerical are not using isalnum, isalpha function:\n",
    "\n",
    "def pass_check_1(password):\n",
    "    try:\n",
    "        if password.isalnum() == True and password.isalpha()==False:\n",
    "            print(\"Entered password is alphanumeric\")\n",
    "        elif password.isalpha() == True:\n",
    "            print(\"Entered password is not alphanumeric\")\n",
    "                      \n",
    "    except:\n",
    "        print(\"Entered password is not alphanumeric\")\n",
    "        \n",
    "    finally:\n",
    "        print(end=\"\")\n"
   ]
  },
  {
   "cell_type": "code",
   "execution_count": 196,
   "id": "cabc69cb",
   "metadata": {},
   "outputs": [],
   "source": [
    "password_1 = \"Mugesh\"\n",
    "password_2 = \"mugesh987\"\n",
    "password_3 = 1234"
   ]
  },
  {
   "cell_type": "code",
   "execution_count": 197,
   "id": "f450fe6b",
   "metadata": {},
   "outputs": [
    {
     "name": "stdout",
     "output_type": "stream",
     "text": [
      "Entered password is not alphanumeric\n",
      "None\n",
      "Entered password is alphanumeric\n",
      "None\n",
      "Entered password is not alphanumeric\n",
      "None\n"
     ]
    }
   ],
   "source": [
    "print(pass_check_1(password_1))\n",
    "print(pass_check_1(password_2))\n",
    "print(pass_check_1(password_3))"
   ]
  },
  {
   "cell_type": "code",
   "execution_count": 198,
   "id": "83100851",
   "metadata": {},
   "outputs": [],
   "source": [
    "##method 2 using regular expression:\n",
    "\n",
    "import re\n",
    "\n",
    "pattern = re.compile(\"^(?=.*[a-zA-Z])(?=.*[0-9])[a-zA-z0-9]+$\")\n",
    "\n",
    "def pass_check_2(password):\n",
    "    try:\n",
    "        if bool(re.match(pattern,password)) == True:\n",
    "            print(\"Entered password is alphanumeric\")\n",
    "\n",
    "        elif bool(re.match(pattern,password)) == False:\n",
    "            print(\"Entered password is not alphanumeric\")\n",
    "    except TypeError as e:\n",
    "        print(e)"
   ]
  },
  {
   "cell_type": "code",
   "execution_count": 199,
   "id": "037e4951",
   "metadata": {},
   "outputs": [
    {
     "name": "stdout",
     "output_type": "stream",
     "text": [
      "Entered password is not alphanumeric\n",
      "None\n",
      "Entered password is alphanumeric\n",
      "None\n",
      "expected string or bytes-like object\n",
      "None\n"
     ]
    }
   ],
   "source": [
    "print(pass_check_2(password_1))\n",
    "print(pass_check_2(password_2))\n",
    "print(pass_check_2(password_3))"
   ]
  },
  {
   "cell_type": "code",
   "execution_count": null,
   "id": "66971aea",
   "metadata": {},
   "outputs": [],
   "source": []
  },
  {
   "cell_type": "code",
   "execution_count": 200,
   "id": "333b2136",
   "metadata": {},
   "outputs": [],
   "source": [
    "## check whether the given input is string, list, tuple or set and check the first and last letter starts with D and I respectively"
   ]
  },
  {
   "cell_type": "code",
   "execution_count": 201,
   "id": "4bf34a6c",
   "metadata": {},
   "outputs": [],
   "source": [
    "## different input as a different testcases:\n",
    "## uncomment one of the following input to check the code!!\n",
    "\n",
    "##string\n",
    "# input_ = \"Dhinesh\"\n",
    "# input_ = \"Dhoni\"\n",
    "# input_ = \"Rajesh\"\n",
    "\n",
    "##list\n",
    "\n",
    "# input_ = [\"Dhinesh\",\"suresh\",\"ramesh\"]\n",
    "# input_ = [\"Dhinesh\",\"suresh\",\"Dhoni\"]\n",
    "# input_ = [\"Rajesh\",\"suresh\",\"Purushothaman\"]\n",
    "\n",
    "##Tuple\n",
    "\n",
    "# input_ = (\"Dhinesh\",\"suresh\",\"ramesh\")\n",
    "# input_ = (\"Dhinesh\",\"suresh\",\"Dhoni\")\n",
    "# input_ = (\"Rajesh\",\"suresh\",\"Purushothaman\")\n",
    "\n",
    "##sets\n",
    "\n",
    "\n",
    "# input_ = {\"Dhinesh\",\"suresh\",\"ramesh\"}\n",
    "input_ = {\"Dhinesh\",\"suresh\",\"Dhoni\"}\n",
    "# input_ = {\"Rajesh\",\"suresh\",\"Purushothaman\"}\n",
    "\n"
   ]
  },
  {
   "cell_type": "code",
   "execution_count": 202,
   "id": "534f5e9c",
   "metadata": {},
   "outputs": [],
   "source": [
    "def checking_input_type(input_):\n",
    "    ##for string\n",
    "    if isinstance(input_,str):\n",
    "        print(\"input is a string\") ##print the type\n",
    "        ## Looking for the first and last letter of the string whether it is starts with D and ends with I\n",
    "        if input_[0].lower() == \"d\" and input_[-1].lower() == \"i\":\n",
    "            print(\"string is starts with D and ends with I\")\n",
    "        elif input_[0].lower() == \"d\":\n",
    "            print(\"string is starts with D\")\n",
    "        elif input_[-1].lower() == \"i\":\n",
    "            print(\"string is ends with I\")\n",
    "        else:\n",
    "            print(\"string is not starts and ends with D and I respectively\")\n",
    "            \n",
    "    ## for list        \n",
    "    elif isinstance(input_,list):\n",
    "        print(\"Input is a List\")\n",
    "        ## Looking for the first and last letter of the list whether it is starts with D and ends with I\n",
    "        if input_[0][0].lower() == \"d\" and input_[-1][-1].lower() == \"i\":\n",
    "            print(\"List is starts with D and ends with I and the elements are {} and {}\".format(input_[0],input_[-1]))\n",
    "        elif input_[0][0].lower() == \"d\":\n",
    "            print(\"List is starts with D and the element is {}\".format(input_[0]))\n",
    "        elif input_[-1][-1].lower() == \"i\":\n",
    "            print(\"List is ends with I and the element is {}\".format(input_[-1]))\n",
    "        else:\n",
    "            print(\"List is not starts and ends with D and I respectively\")\n",
    "            \n",
    "    ## for tuple        \n",
    "    elif isinstance(input_,tuple):\n",
    "        print(\"Input is a Tuple\")\n",
    "        ## Looking for the first and last letter of the tuple whether it is starts with D and ends with I\n",
    "        if input_[0][0].lower() == \"d\" and input_[-1][-1].lower() == \"i\":\n",
    "            print(\"Tuple is starts with D and ends with I and respective elements are {} and {}\".format (input_[0],input_[-1]))\n",
    "        elif input_[0][0].lower() == \"d\":\n",
    "            print(\"Tuple is starts with D and element is {}\".format(input_[0]))\n",
    "        elif input_[-1][-1].lower() == \"i\":\n",
    "            print(\"Tuple is ends with I and element is {}\".format(input_[-1]))\n",
    "        else:\n",
    "            print(\"Tuple is not starts and ends with D and I respectively\")\n",
    "    \n",
    "    ##for set\n",
    "    \n",
    "    elif isinstance(input_,set):\n",
    "        print(\"Input is a set\")\n",
    "        \n",
    "        ##converting the set into a list to find out the first and last letter:\n",
    "        empty_list= []\n",
    "        for i in input_:\n",
    "            empty_list.append(i)\n",
    "        if empty_list[0][0].lower() == \"d\" and empty_list[-1][-1].lower() == \"i\":\n",
    "            print(\"Set is starts with D and ends with I and the elements are {} and {}\".format(empty_list[0],empty_list[-1]))\n",
    "        elif empty_list[0][0].lower() == \"d\":\n",
    "            print(\"Set is starts with D and the element is {}\".format(empty_list[0]))\n",
    "        elif empty_list[-1][-1].lower() == \"i\":\n",
    "            print(\"Set is ends with I and the element is {}\".format(empty_list[-1]))\n",
    "        else:\n",
    "            print(\"Set is not starts and ends with D and I respectively\")\n",
    "        "
   ]
  },
  {
   "cell_type": "code",
   "execution_count": 203,
   "id": "f3fbb5ee",
   "metadata": {},
   "outputs": [
    {
     "name": "stdout",
     "output_type": "stream",
     "text": [
      "Input is a set\n",
      "Set is starts with D and ends with I and the elements are Dhinesh and Dhoni\n",
      "None\n"
     ]
    }
   ],
   "source": [
    "print(checking_input_type(input_))"
   ]
  },
  {
   "cell_type": "code",
   "execution_count": null,
   "id": "afbdefe6",
   "metadata": {},
   "outputs": [],
   "source": []
  },
  {
   "cell_type": "code",
   "execution_count": null,
   "id": "2d5ea82d",
   "metadata": {},
   "outputs": [],
   "source": []
  },
  {
   "cell_type": "code",
   "execution_count": null,
   "id": "c6f97c74",
   "metadata": {},
   "outputs": [],
   "source": []
  }
 ],
 "metadata": {
  "kernelspec": {
   "display_name": "Python 3 (ipykernel)",
   "language": "python",
   "name": "python3"
  },
  "language_info": {
   "codemirror_mode": {
    "name": "ipython",
    "version": 3
   },
   "file_extension": ".py",
   "mimetype": "text/x-python",
   "name": "python",
   "nbconvert_exporter": "python",
   "pygments_lexer": "ipython3",
   "version": "3.10.9"
  }
 },
 "nbformat": 4,
 "nbformat_minor": 5
}
