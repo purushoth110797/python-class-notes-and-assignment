{
 "cells": [
  {
   "cell_type": "code",
   "execution_count": 57,
   "id": "5f41862d",
   "metadata": {},
   "outputs": [],
   "source": [
    "## even/odd based on input given using function\n",
    "##if a.isalpha() == True:\n",
    "#     for i in range(len(a)):\n",
    "#         if i%2 == 0:\n",
    "#             even_list.append(a[i])\n",
    "#         else:\n",
    "#             odd_list.append(a[i])\n",
    "# else:\n",
    "#     print(\"Please enter the valid string\")\n",
    "\n",
    "def odd_even(start,end,mode):\n",
    "    l=[]\n",
    "    for i in range(start,end):\n",
    "        if mode == \"even\":\n",
    "            remainder == 0\n",
    "        if mode == \"odd\":\n",
    "            remainder == 1\n",
    "        if remainder == 0:\n",
    "            if i%2 == 0:\n",
    "                l.append(i)\n",
    "        elif remainder == 1:\n",
    "            if i%2 == 1:\n",
    "                l.append(i)\n",
    "    return (l)"
   ]
  },
  {
   "cell_type": "code",
   "execution_count": null,
   "id": "932d4754",
   "metadata": {},
   "outputs": [],
   "source": []
  },
  {
   "cell_type": "code",
   "execution_count": 60,
   "id": "0ce4639e",
   "metadata": {},
   "outputs": [
    {
     "data": {
      "text/plain": [
       "[2, 4, 6, 8, 10, 12, 14, 16, 18]"
      ]
     },
     "execution_count": 60,
     "metadata": {},
     "output_type": "execute_result"
    }
   ],
   "source": [
    "odd_even(2,20,\"even\")"
   ]
  },
  {
   "cell_type": "code",
   "execution_count": 56,
   "id": "29ba6397",
   "metadata": {},
   "outputs": [],
   "source": [
    "##multi\n",
    "def multi(a,b,c):\n",
    "    d = (a*b*c)\n",
    "    return d"
   ]
  },
  {
   "cell_type": "code",
   "execution_count": 18,
   "id": "7d2e8b1d",
   "metadata": {},
   "outputs": [
    {
     "data": {
      "text/plain": [
       "84"
      ]
     },
     "execution_count": 18,
     "metadata": {},
     "output_type": "execute_result"
    }
   ],
   "source": [
    "multi(4,7,3)"
   ]
  },
  {
   "cell_type": "code",
   "execution_count": 20,
   "id": "eb37bdab",
   "metadata": {},
   "outputs": [],
   "source": [
    "## first,mid, last name\n",
    "def first_middle_last(a,b,c):\n",
    "    print(\"The first name is:\", a)\n",
    "    print(\"The middle name is:\", b)\n",
    "    print(\"The last name is:\", c)"
   ]
  },
  {
   "cell_type": "code",
   "execution_count": 21,
   "id": "4be267c8",
   "metadata": {},
   "outputs": [
    {
     "name": "stdout",
     "output_type": "stream",
     "text": [
      "The first name is: sachin\n",
      "The middle name is: tendulkar\n",
      "The last name is: ramesh\n"
     ]
    }
   ],
   "source": [
    "first_middle_last(\"sachin\",\"tendulkar\",\"ramesh\")"
   ]
  },
  {
   "cell_type": "code",
   "execution_count": 33,
   "id": "522e3d8e",
   "metadata": {},
   "outputs": [
    {
     "name": "stdout",
     "output_type": "stream",
     "text": [
      "please enter the number:10\n",
      "please enter the number:20\n"
     ]
    }
   ],
   "source": [
    "## get input and swap\n",
    "a = input(\"please enter the number:\")\n",
    "b = input(\"please enter the number:\")"
   ]
  },
  {
   "cell_type": "code",
   "execution_count": 34,
   "id": "cefda4da",
   "metadata": {},
   "outputs": [],
   "source": [
    "def swap(a,b):\n",
    "    first = a\n",
    "    second = b\n",
    "    return second, first"
   ]
  },
  {
   "cell_type": "code",
   "execution_count": 35,
   "id": "dcf4c5bc",
   "metadata": {},
   "outputs": [
    {
     "data": {
      "text/plain": [
       "('20', '10')"
      ]
     },
     "execution_count": 35,
     "metadata": {},
     "output_type": "execute_result"
    }
   ],
   "source": [
    "swap(a,b)"
   ]
  },
  {
   "cell_type": "code",
   "execution_count": null,
   "id": "e369d0fe",
   "metadata": {},
   "outputs": [],
   "source": []
  }
 ],
 "metadata": {
  "kernelspec": {
   "display_name": "Python 3 (ipykernel)",
   "language": "python",
   "name": "python3"
  },
  "language_info": {
   "codemirror_mode": {
    "name": "ipython",
    "version": 3
   },
   "file_extension": ".py",
   "mimetype": "text/x-python",
   "name": "python",
   "nbconvert_exporter": "python",
   "pygments_lexer": "ipython3",
   "version": "3.10.9"
  }
 },
 "nbformat": 4,
 "nbformat_minor": 5
}
