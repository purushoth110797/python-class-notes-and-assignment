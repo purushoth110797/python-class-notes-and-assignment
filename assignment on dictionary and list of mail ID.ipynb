{
 "cells": [
  {
   "cell_type": "code",
   "execution_count": 12,
   "id": "0038a645",
   "metadata": {},
   "outputs": [],
   "source": [
    "dictionary = {}\n",
    "original_list = []\n",
    "duplicate_list = []\n",
    "\n",
    "a = [\"apple\", \"mango\", \"apple\", \"orange\", \"mango\", \"lemon\", \"apple\",\"apple\",\"apple\",\"lemon\",\"lemon\",\"lemon\"]"
   ]
  },
  {
   "cell_type": "code",
   "execution_count": 13,
   "id": "c9fdacd8",
   "metadata": {},
   "outputs": [],
   "source": [
    "for i in a:\n",
    "    if i in original_list:\n",
    "        duplicate_list.append(i)\n",
    "    else:\n",
    "        original_list.append(i)\n",
    "        \n",
    "for i in original_list:\n",
    "    dictionary[i] = a.count(i)"
   ]
  },
  {
   "cell_type": "code",
   "execution_count": 14,
   "id": "94561312",
   "metadata": {},
   "outputs": [
    {
     "name": "stdout",
     "output_type": "stream",
     "text": [
      "[['apple', 5], ['lemon', 4]]\n"
     ]
    }
   ],
   "source": [
    "empty_list=[]\n",
    "\n",
    "for i,j in dictionary.items():\n",
    "    if j >3:\n",
    "        empty_list.append([i,j])\n",
    "        \n",
    "        \n",
    "print(empty_list)"
   ]
  },
  {
   "cell_type": "code",
   "execution_count": 6,
   "id": "2a19ad8b",
   "metadata": {},
   "outputs": [],
   "source": [
    "## getting all user name from mail id which is start with  letter A\n",
    "\n",
    "\n",
    "\n",
    "##get user data from the file\n",
    "\n",
    "def user_detail(file_path):\n",
    "    a = open(file_path,\"r\")\n",
    "    return a.readlines()\n",
    "    a.close()\n",
    "    \n",
    "## function to split the mail ID to get the user name\n",
    "\n",
    "def user_name(a):\n",
    "    name = []\n",
    "    for data in a:\n",
    "        b = data.split(\"@\")\n",
    "        name.append(b[0])\n",
    "    return set(name)"
   ]
  },
  {
   "cell_type": "code",
   "execution_count": 7,
   "id": "ecf89a4d",
   "metadata": {},
   "outputs": [
    {
     "name": "stdout",
     "output_type": "stream",
     "text": [
      "{'bala', 'naveen', 'ankit', 'Ajithkumar', 'ajith', 'ahmed', 'gowtham', 'manikandan', 'mugesh', 'arjun', 'sagul', 'sedhu'}\n"
     ]
    }
   ],
   "source": [
    "mail_id = user_detail(r\"C:\\Users\\ELCOT\\Desktop\\PYTHON\\text\\user_mail_1.txt\")\n",
    "\n",
    "name = user_name(mail_id)\n",
    "\n",
    "print(name)"
   ]
  },
  {
   "cell_type": "code",
   "execution_count": 8,
   "id": "881447e5",
   "metadata": {},
   "outputs": [
    {
     "name": "stdout",
     "output_type": "stream",
     "text": [
      "['ankit', 'Ajithkumar', 'ajith', 'ahmed', 'arjun']\n"
     ]
    }
   ],
   "source": [
    "name_list = []\n",
    "\n",
    "for i in name:\n",
    "    if i.lower()[0] == \"a\":\n",
    "        name_list.append(i)\n",
    "        \n",
    "print(name_list)"
   ]
  },
  {
   "cell_type": "code",
   "execution_count": null,
   "id": "7588fdec",
   "metadata": {},
   "outputs": [],
   "source": []
  }
 ],
 "metadata": {
  "kernelspec": {
   "display_name": "Python 3 (ipykernel)",
   "language": "python",
   "name": "python3"
  },
  "language_info": {
   "codemirror_mode": {
    "name": "ipython",
    "version": 3
   },
   "file_extension": ".py",
   "mimetype": "text/x-python",
   "name": "python",
   "nbconvert_exporter": "python",
   "pygments_lexer": "ipython3",
   "version": "3.10.9"
  }
 },
 "nbformat": 4,
 "nbformat_minor": 5
}
