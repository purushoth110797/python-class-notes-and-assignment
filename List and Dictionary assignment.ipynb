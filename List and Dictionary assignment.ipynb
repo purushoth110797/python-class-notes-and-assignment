{
 "cells": [
  {
   "cell_type": "code",
   "execution_count": 4,
   "id": "493c6ef0",
   "metadata": {},
   "outputs": [],
   "source": [
    "a = [\"apple\", \"mango\", \"apple\", \"orange\", \"mango\", \"lemon\", \"apple\"]"
   ]
  },
  {
   "cell_type": "code",
   "execution_count": 5,
   "id": "dd271ae9",
   "metadata": {},
   "outputs": [],
   "source": [
    "## creating empty list\n",
    "\n",
    "original_list=[]\n",
    "duplicate_list=[]\n"
   ]
  },
  {
   "cell_type": "code",
   "execution_count": 22,
   "id": "486a1a2e",
   "metadata": {},
   "outputs": [],
   "source": [
    "for i in a:\n",
    "    if i in original_list:\n",
    "        duplicate_list.append(i)\n",
    "    else:\n",
    "        original_list.append(i)"
   ]
  },
  {
   "cell_type": "code",
   "execution_count": 23,
   "id": "83d03cb4",
   "metadata": {},
   "outputs": [
    {
     "name": "stdout",
     "output_type": "stream",
     "text": [
      "['apple', 'mango', 'orange', 'lemon']\n"
     ]
    }
   ],
   "source": [
    "print(original_list)"
   ]
  },
  {
   "cell_type": "code",
   "execution_count": 24,
   "id": "4b0f1538",
   "metadata": {},
   "outputs": [
    {
     "name": "stdout",
     "output_type": "stream",
     "text": [
      "['apple', 'mango', 'apple']\n"
     ]
    }
   ],
   "source": [
    "print(duplicate_list)"
   ]
  },
  {
   "cell_type": "code",
   "execution_count": 27,
   "id": "2bf8a298",
   "metadata": {},
   "outputs": [],
   "source": [
    "##\n",
    "final_list=[]\n",
    "a = [\"one\", \"two\", \"three\"]\n",
    "b = [1,2,3]\n",
    "\n",
    "## output = [[1,\"one\"],[1,\"two\"],[1,\"three\"],[2,\"one\"],[2,\"two\"],[2'\"three\"],[3,\"one\"],[3,\"two\"],[3,\"three\"]]"
   ]
  },
  {
   "cell_type": "code",
   "execution_count": 28,
   "id": "c9f4a652",
   "metadata": {},
   "outputs": [],
   "source": [
    "for i in b:\n",
    "    for j in a:\n",
    "        combined_list=[i,j]\n",
    "        final_list.append(combined_list)"
   ]
  },
  {
   "cell_type": "code",
   "execution_count": 29,
   "id": "b090627d",
   "metadata": {},
   "outputs": [
    {
     "name": "stdout",
     "output_type": "stream",
     "text": [
      "[[1, 'one'], [1, 'two'], [1, 'three'], [2, 'one'], [2, 'two'], [2, 'three'], [3, 'one'], [3, 'two'], [3, 'three']]\n"
     ]
    }
   ],
   "source": [
    "print(final_list)"
   ]
  },
  {
   "cell_type": "code",
   "execution_count": 48,
   "id": "81466f5e",
   "metadata": {},
   "outputs": [],
   "source": []
  },
  {
   "cell_type": "code",
   "execution_count": 50,
   "id": "0b05cb3d",
   "metadata": {},
   "outputs": [],
   "source": [
    "dictionary = {}\n",
    "original_list = []\n",
    "duplicate_list = []\n",
    "\n",
    "a = [\"apple\", \"mango\", \"apple\", \"orange\", \"mango\", \"lemon\", \"apple\"]"
   ]
  },
  {
   "cell_type": "code",
   "execution_count": 51,
   "id": "69d0e37c",
   "metadata": {},
   "outputs": [],
   "source": [
    "original_list = []\n",
    "duplicate_list = []\n",
    "\n",
    "for i in a:\n",
    "    if i in original_list:\n",
    "        duplicate_list.append(i)\n",
    "    else:\n",
    "        original_list.append(i)\n",
    "        \n",
    "for i in original_list:\n",
    "    dictionary[i] = a.count(i)"
   ]
  },
  {
   "cell_type": "code",
   "execution_count": 53,
   "id": "30c7c852",
   "metadata": {},
   "outputs": [
    {
     "name": "stdout",
     "output_type": "stream",
     "text": [
      "{'apple': 3, 'mango': 2, 'orange': 1, 'lemon': 1}\n"
     ]
    }
   ],
   "source": [
    "print(dictionary)"
   ]
  },
  {
   "cell_type": "code",
   "execution_count": 55,
   "id": "7237c8d0",
   "metadata": {},
   "outputs": [],
   "source": [
    "dictionary1={}\n",
    "original_list = []\n",
    "duplicate_list = []\n",
    "\n",
    "c = [\"apple\", \"mango\", \"banana\", \"jack fruit\", \"apple\", \"lemon\", \"apple\", \"banana\", \"dragon fruit\", \"mango\"]"
   ]
  },
  {
   "cell_type": "code",
   "execution_count": 56,
   "id": "ade609b7",
   "metadata": {},
   "outputs": [],
   "source": [
    "for i in c:\n",
    "    if i in original_list:\n",
    "        duplicate_list.append(i)\n",
    "    else:\n",
    "        original_list.append(i)\n",
    "        \n",
    "    \n",
    "for i in original_list:\n",
    "    dictionary1[i] = c.count(i)"
   ]
  },
  {
   "cell_type": "code",
   "execution_count": 57,
   "id": "88be268e",
   "metadata": {},
   "outputs": [
    {
     "name": "stdout",
     "output_type": "stream",
     "text": [
      "{'apple': 3, 'mango': 2, 'banana': 2, 'jack fruit': 1, 'lemon': 1, 'dragon fruit': 1}\n"
     ]
    }
   ],
   "source": [
    "print(dictionary1)"
   ]
  },
  {
   "cell_type": "code",
   "execution_count": 1,
   "id": "14e6e067",
   "metadata": {},
   "outputs": [],
   "source": [
    "a = \"SachinTendulkar\"\n",
    "\n",
    "##output will be print the string in specified intervals"
   ]
  },
  {
   "cell_type": "code",
   "execution_count": 7,
   "id": "e2996fa7",
   "metadata": {},
   "outputs": [
    {
     "name": "stdout",
     "output_type": "stream",
     "text": [
      "S\n",
      "a\n",
      "c\n",
      "h\n",
      "i\n",
      "n\n",
      "T\n",
      "e\n",
      "n\n",
      "d\n",
      "u\n",
      "l\n",
      "k\n",
      "a\n",
      "r\n"
     ]
    }
   ],
   "source": [
    "# input=\n",
    "for i in a:\n",
    "    print(i)\n",
    "    "
   ]
  },
  {
   "cell_type": "code",
   "execution_count": null,
   "id": "c9b259e7",
   "metadata": {},
   "outputs": [],
   "source": [
    "## input = abcde\n",
    "\n",
    "abcde\n",
    "bcded\n",
    "print(\"\".join(a))"
   ]
  }
 ],
 "metadata": {
  "kernelspec": {
   "display_name": "Python 3 (ipykernel)",
   "language": "python",
   "name": "python3"
  },
  "language_info": {
   "codemirror_mode": {
    "name": "ipython",
    "version": 3
   },
   "file_extension": ".py",
   "mimetype": "text/x-python",
   "name": "python",
   "nbconvert_exporter": "python",
   "pygments_lexer": "ipython3",
   "version": "3.10.9"
  }
 },
 "nbformat": 4,
 "nbformat_minor": 5
}
