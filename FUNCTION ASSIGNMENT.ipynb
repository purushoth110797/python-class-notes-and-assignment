{
 "cells": [
  {
   "cell_type": "code",
   "execution_count": 20,
   "id": "15e1f6d1",
   "metadata": {},
   "outputs": [],
   "source": [
    "## write different function to compare two different file and print the repeated user name seperately and unrepeated user name seperately\n",
    "\n",
    "##get user data from the file\n",
    "\n",
    "def user_detail(file_path):\n",
    "    a = open(file_path,\"r\")\n",
    "    return a.readlines()\n",
    "    a.close()\n",
    "    \n",
    "## function to split the mail ID to get the user name\n",
    "\n",
    "def user_name(a):\n",
    "    name = []\n",
    "    for data in a:\n",
    "        b = data.split(\"@\")\n",
    "        name.append(b[0])\n",
    "    return set(name)\n",
    "\n",
    "## function to compare the list to print the intersection and difference\n",
    "\n",
    "def output(name_set1,name_set2,mode):\n",
    "    if mode == \"common\":\n",
    "        print(name_set1.intersection(name_set2))\n",
    "    elif mode == \"not common\":\n",
    "        print(name_set1.difference(name_set2))\n",
    "    else:\n",
    "        print(\"invalid input, Please provide the valid input:\")\n",
    "    "
   ]
  },
  {
   "cell_type": "code",
   "execution_count": 21,
   "id": "fb76affc",
   "metadata": {},
   "outputs": [],
   "source": [
    "## getting data from the text file by calling the function\n",
    "user_mail_1 = user_detail(r\"C:\\Users\\ELCOT\\Desktop\\PYTHON\\text\\user_mail_1.txt\")\n",
    "user_mail_2 = user_detail(r\"C:\\Users\\ELCOT\\Desktop\\PYTHON\\text\\user_mail_2.txt\")"
   ]
  },
  {
   "cell_type": "code",
   "execution_count": 22,
   "id": "61e10fe4",
   "metadata": {},
   "outputs": [],
   "source": [
    "#getting user name from the mail by calling the funcion\n",
    "name1 = user_name(user_mail_1)\n",
    "name2 = user_name(user_mail_2)"
   ]
  },
  {
   "cell_type": "code",
   "execution_count": 23,
   "id": "aa4f1970",
   "metadata": {},
   "outputs": [
    {
     "name": "stdout",
     "output_type": "stream",
     "text": [
      "{'mugesh', 'sedhu'}\n"
     ]
    }
   ],
   "source": [
    "# getting the output by providing valid input by using function call\n",
    "## Printing the common names\n",
    "output(name1,name2,\"common\")"
   ]
  },
  {
   "cell_type": "code",
   "execution_count": 24,
   "id": "29b6481a",
   "metadata": {},
   "outputs": [
    {
     "name": "stdout",
     "output_type": "stream",
     "text": [
      "{'manikandan', 'naveen', 'gowtham', 'bala', 'sagul'}\n"
     ]
    }
   ],
   "source": [
    "##Printing the not similar name\n",
    "output(name1,name2,\"not common\")"
   ]
  }
 ],
 "metadata": {
  "kernelspec": {
   "display_name": "Python 3 (ipykernel)",
   "language": "python",
   "name": "python3"
  },
  "language_info": {
   "codemirror_mode": {
    "name": "ipython",
    "version": 3
   },
   "file_extension": ".py",
   "mimetype": "text/x-python",
   "name": "python",
   "nbconvert_exporter": "python",
   "pygments_lexer": "ipython3",
   "version": "3.10.9"
  }
 },
 "nbformat": 4,
 "nbformat_minor": 5
}
