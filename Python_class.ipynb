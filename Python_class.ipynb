{
 "cells": [
  {
   "cell_type": "code",
   "execution_count": 1,
   "id": "019fe742",
   "metadata": {},
   "outputs": [
    {
     "name": "stdout",
     "output_type": "stream",
     "text": [
      "hi\n"
     ]
    }
   ],
   "source": [
    "print(\"hi\")"
   ]
  },
  {
   "cell_type": "code",
   "execution_count": 2,
   "id": "c6f94a0a",
   "metadata": {},
   "outputs": [
    {
     "name": "stdout",
     "output_type": "stream",
     "text": [
      "hi\n"
     ]
    }
   ],
   "source": [
    "print (\"hi\")"
   ]
  },
  {
   "cell_type": "code",
   "execution_count": 3,
   "id": "f142718f",
   "metadata": {},
   "outputs": [],
   "source": [
    "## two types of comments\n",
    "## single line comment, start with #\n",
    "# multi line comment, start and end with \"\"\"  \"\"\"\n",
    "## ctrl + / --> to auto commment and uncomment"
   ]
  },
  {
   "cell_type": "code",
   "execution_count": 4,
   "id": "642a572d",
   "metadata": {},
   "outputs": [
    {
     "data": {
      "text/plain": [
       "'\\nmultiple comment\\nexample\\n'"
      ]
     },
     "execution_count": 4,
     "metadata": {},
     "output_type": "execute_result"
    }
   ],
   "source": [
    "\"\"\"\n",
    "multiple comment\n",
    "example\n",
    "\"\"\""
   ]
  },
  {
   "cell_type": "code",
   "execution_count": 5,
   "id": "40bf887c",
   "metadata": {},
   "outputs": [
    {
     "name": "stdout",
     "output_type": "stream",
     "text": [
      "enter your namePurushothaman\n"
     ]
    },
    {
     "data": {
      "text/plain": [
       "'Purushothaman'"
      ]
     },
     "execution_count": 5,
     "metadata": {},
     "output_type": "execute_result"
    }
   ],
   "source": [
    "input(\"enter your name\")"
   ]
  },
  {
   "cell_type": "code",
   "execution_count": 6,
   "id": "92d91f94",
   "metadata": {},
   "outputs": [],
   "source": [
    "## variable = values\n",
    "## variable should not be start with numbers but it may comes inbetween or at the end\n",
    "## python is case sensitive\n",
    "## special character should not included in variale name\n",
    "##_ is not consider as special character in python"
   ]
  },
  {
   "cell_type": "code",
   "execution_count": 7,
   "id": "91c31432",
   "metadata": {},
   "outputs": [],
   "source": [
    "## example\n",
    "a = \"Purushothaman\""
   ]
  },
  {
   "cell_type": "code",
   "execution_count": 8,
   "id": "93951f51",
   "metadata": {},
   "outputs": [
    {
     "name": "stdout",
     "output_type": "stream",
     "text": [
      "Purushothaman\n"
     ]
    }
   ],
   "source": [
    "print(a)"
   ]
  },
  {
   "cell_type": "code",
   "execution_count": 9,
   "id": "d2a076b6",
   "metadata": {},
   "outputs": [
    {
     "name": "stdout",
     "output_type": "stream",
     "text": [
      "enter a value56\n"
     ]
    }
   ],
   "source": [
    "a = input(\"enter a value\")"
   ]
  },
  {
   "cell_type": "code",
   "execution_count": 10,
   "id": "f19adef6",
   "metadata": {},
   "outputs": [
    {
     "name": "stdout",
     "output_type": "stream",
     "text": [
      "56\n"
     ]
    }
   ],
   "source": [
    "print(a)"
   ]
  },
  {
   "cell_type": "code",
   "execution_count": 11,
   "id": "d3eca275",
   "metadata": {},
   "outputs": [],
   "source": [
    "##string\n",
    "## anything comes under \"\" will be string!\n",
    "a = \"test\""
   ]
  },
  {
   "cell_type": "code",
   "execution_count": 12,
   "id": "5fe4bd98",
   "metadata": {},
   "outputs": [
    {
     "name": "stdout",
     "output_type": "stream",
     "text": [
      "<class 'str'>\n"
     ]
    }
   ],
   "source": [
    "## one of the method to find the data type\n",
    "print(type(a))\n"
   ]
  },
  {
   "cell_type": "code",
   "execution_count": 13,
   "id": "5e1ec7ec",
   "metadata": {},
   "outputs": [
    {
     "name": "stdout",
     "output_type": "stream",
     "text": [
      "True\n"
     ]
    }
   ],
   "source": [
    "## another method to find the datatype\n",
    "print(isinstance(a,str))"
   ]
  },
  {
   "cell_type": "code",
   "execution_count": 14,
   "id": "80b0313a",
   "metadata": {},
   "outputs": [],
   "source": [
    "a = \"Roger Fedrer\""
   ]
  },
  {
   "cell_type": "code",
   "execution_count": 15,
   "id": "8a77b392",
   "metadata": {},
   "outputs": [
    {
     "name": "stdout",
     "output_type": "stream",
     "text": [
      "12\n",
      " \n",
      "r\n",
      "[' ', 'F', 'R', 'd', 'e', 'e', 'e', 'g', 'o', 'r', 'r', 'r']\n"
     ]
    }
   ],
   "source": [
    "print(len(a))## print the length of the character\n",
    "print(min(a))## print the minimum character \n",
    "print(max(a))## print the maximum character\n",
    "print(sorted(a))## print the sorted character"
   ]
  },
  {
   "cell_type": "code",
   "execution_count": 16,
   "id": "edcbcc15",
   "metadata": {},
   "outputs": [
    {
     "name": "stdout",
     "output_type": "stream",
     "text": [
      "False\n",
      "False\n",
      "False\n",
      "False\n",
      "False\n",
      "ROGER FEDRER\n",
      "roger fedrer\n",
      "rOGER fEDRER\n"
     ]
    }
   ],
   "source": [
    "print(a.isalpha())\n",
    "print(a.isalnum())\n",
    "print(a.isupper())\n",
    "print(a.islower())\n",
    "print(a.isdigit())\n",
    "print(a.upper())\n",
    "print(a.lower())\n",
    "print(a.swapcase())"
   ]
  },
  {
   "cell_type": "code",
   "execution_count": 17,
   "id": "b20f9b2e",
   "metadata": {},
   "outputs": [],
   "source": [
    "## Start:End:Interval"
   ]
  },
  {
   "cell_type": "code",
   "execution_count": 18,
   "id": "e4d75ee3",
   "metadata": {},
   "outputs": [
    {
     "name": "stdout",
     "output_type": "stream",
     "text": [
      "Roger\n"
     ]
    }
   ],
   "source": [
    "print(a[0:5])"
   ]
  },
  {
   "cell_type": "code",
   "execution_count": 19,
   "id": "650699f4",
   "metadata": {},
   "outputs": [
    {
     "name": "stdout",
     "output_type": "stream",
     "text": [
      "RgrFde\n"
     ]
    }
   ],
   "source": [
    "print(a[::2])"
   ]
  },
  {
   "cell_type": "code",
   "execution_count": 20,
   "id": "dc4f0c3c",
   "metadata": {},
   "outputs": [
    {
     "name": "stdout",
     "output_type": "stream",
     "text": [
      "r\n"
     ]
    }
   ],
   "source": [
    "print(a[-1])## to print the last value"
   ]
  },
  {
   "cell_type": "code",
   "execution_count": 21,
   "id": "609ca394",
   "metadata": {},
   "outputs": [
    {
     "name": "stdout",
     "output_type": "stream",
     "text": [
      "rerdeF regoR\n"
     ]
    }
   ],
   "source": [
    "print(a[::-1])##To print the character in reverse order"
   ]
  },
  {
   "cell_type": "code",
   "execution_count": 22,
   "id": "17eb96c8",
   "metadata": {},
   "outputs": [],
   "source": [
    "## get last letter in a name without using reverse index\n",
    "## using input get a name check its alphabatic\n",
    "##using input get a number and check it is number or not\n",
    "##using input get a password check it is alphanumeric and in lower case or not"
   ]
  },
  {
   "cell_type": "code",
   "execution_count": 25,
   "id": "eb482bb6",
   "metadata": {},
   "outputs": [
    {
     "name": "stdout",
     "output_type": "stream",
     "text": [
      "Enter your namepurushothaman\n"
     ]
    }
   ],
   "source": [
    "## using input get a name check its alphabatic\n",
    "name = input(\"Enter your name\")"
   ]
  },
  {
   "cell_type": "code",
   "execution_count": 26,
   "id": "d0091ab7",
   "metadata": {},
   "outputs": [
    {
     "name": "stdout",
     "output_type": "stream",
     "text": [
      "True\n"
     ]
    }
   ],
   "source": [
    "print(name.isalpha())"
   ]
  },
  {
   "cell_type": "code",
   "execution_count": 27,
   "id": "be22a94f",
   "metadata": {},
   "outputs": [
    {
     "name": "stdout",
     "output_type": "stream",
     "text": [
      "Enter your number:purushothaman\n"
     ]
    }
   ],
   "source": [
    "##using input get a number and check it is number or not\n",
    "number = input(\"Enter your number:\")"
   ]
  },
  {
   "cell_type": "code",
   "execution_count": 28,
   "id": "fcc31079",
   "metadata": {},
   "outputs": [
    {
     "name": "stdout",
     "output_type": "stream",
     "text": [
      "False\n"
     ]
    }
   ],
   "source": [
    "print(isinstance(number,int))"
   ]
  },
  {
   "cell_type": "code",
   "execution_count": 29,
   "id": "c32bed33",
   "metadata": {},
   "outputs": [
    {
     "name": "stdout",
     "output_type": "stream",
     "text": [
      "Enter your passwordpurushoth123\n"
     ]
    }
   ],
   "source": [
    "##using input get a password check it is alphanumeric and in lower case or not\n",
    "password = input(\"Enter your password\")"
   ]
  },
  {
   "cell_type": "code",
   "execution_count": 30,
   "id": "7a63b6d4",
   "metadata": {},
   "outputs": [
    {
     "name": "stdout",
     "output_type": "stream",
     "text": [
      "True\n",
      "True\n"
     ]
    }
   ],
   "source": [
    "print(password.isalnum())\n",
    "print(password.islower())"
   ]
  },
  {
   "cell_type": "code",
   "execution_count": 31,
   "id": "abd7f76b",
   "metadata": {},
   "outputs": [
    {
     "name": "stdout",
     "output_type": "stream",
     "text": [
      "Please enter your name:purushothaman\n"
     ]
    }
   ],
   "source": [
    "## get last letter in a name without using reverse index\n",
    "name1 = input(\"Please enter your name:\")"
   ]
  },
  {
   "cell_type": "code",
   "execution_count": 32,
   "id": "279765e4",
   "metadata": {},
   "outputs": [
    {
     "name": "stdout",
     "output_type": "stream",
     "text": [
      "n\n"
     ]
    }
   ],
   "source": [
    "a = len(name1)-1\n",
    "print(name1[a])\n",
    "\n",
    "\n"
   ]
  },
  {
   "cell_type": "code",
   "execution_count": 33,
   "id": "d2a87e11",
   "metadata": {},
   "outputs": [],
   "source": [
    "a=\"sachin tendulkar\""
   ]
  },
  {
   "cell_type": "code",
   "execution_count": 34,
   "id": "5b92a957",
   "metadata": {},
   "outputs": [
    {
     "name": "stdout",
     "output_type": "stream",
     "text": [
      "1\n"
     ]
    }
   ],
   "source": [
    "## indexing\n",
    "print(a.index(\"a\"))"
   ]
  },
  {
   "cell_type": "code",
   "execution_count": 35,
   "id": "970a1eda",
   "metadata": {},
   "outputs": [
    {
     "name": "stdout",
     "output_type": "stream",
     "text": [
      "14\n"
     ]
    }
   ],
   "source": [
    "## to set the indexing limit\n",
    "print(a.index(\"a\",2,15))"
   ]
  },
  {
   "cell_type": "code",
   "execution_count": 36,
   "id": "f1c22cea",
   "metadata": {},
   "outputs": [],
   "source": [
    "## R index"
   ]
  },
  {
   "cell_type": "code",
   "execution_count": 37,
   "id": "6408bf59",
   "metadata": {},
   "outputs": [
    {
     "data": {
      "text/plain": [
       "'\\nindex will give error while the character is not in the string\\nfind will not give the error but give \"-1\" if the character is not found in the string\\n'"
      ]
     },
     "execution_count": 37,
     "metadata": {},
     "output_type": "execute_result"
    }
   ],
   "source": [
    "## difference between index and find\n",
    "\"\"\"\n",
    "index will give error while the character is not in the string\n",
    "find will not give the error but give \"-1\" if the character is not found in the string\n",
    "\"\"\""
   ]
  },
  {
   "cell_type": "code",
   "execution_count": 38,
   "id": "b54a3510",
   "metadata": {},
   "outputs": [
    {
     "name": "stdout",
     "output_type": "stream",
     "text": [
      "14\n"
     ]
    }
   ],
   "source": [
    "## r indexing - Reverse indexing\n",
    "print(a.rindex(\"a\"))"
   ]
  },
  {
   "cell_type": "code",
   "execution_count": 39,
   "id": "a8bbbdc6",
   "metadata": {},
   "outputs": [
    {
     "ename": "ValueError",
     "evalue": "substring not found",
     "output_type": "error",
     "traceback": [
      "\u001b[1;31m---------------------------------------------------------------------------\u001b[0m",
      "\u001b[1;31mValueError\u001b[0m                                Traceback (most recent call last)",
      "Cell \u001b[1;32mIn[39], line 2\u001b[0m\n\u001b[0;32m      1\u001b[0m \u001b[38;5;66;03m## difference between index and find\u001b[39;00m\n\u001b[1;32m----> 2\u001b[0m \u001b[38;5;28mprint\u001b[39m (\u001b[43ma\u001b[49m\u001b[38;5;241;43m.\u001b[39;49m\u001b[43mindex\u001b[49m\u001b[43m(\u001b[49m\u001b[38;5;124;43m\"\u001b[39;49m\u001b[38;5;124;43mz\u001b[39;49m\u001b[38;5;124;43m\"\u001b[39;49m\u001b[43m)\u001b[49m)\n",
      "\u001b[1;31mValueError\u001b[0m: substring not found"
     ]
    }
   ],
   "source": [
    "## difference between index and find\n",
    "print (a.index(\"z\"))\n"
   ]
  },
  {
   "cell_type": "code",
   "execution_count": 43,
   "id": "91b94b09",
   "metadata": {},
   "outputs": [
    {
     "name": "stdout",
     "output_type": "stream",
     "text": [
      "1\n"
     ]
    }
   ],
   "source": [
    "print (a.find(\"a\"))"
   ]
  },
  {
   "cell_type": "code",
   "execution_count": 41,
   "id": "3cf5c1d2",
   "metadata": {},
   "outputs": [
    {
     "name": "stdout",
     "output_type": "stream",
     "text": [
      "-1\n",
      "14\n"
     ]
    }
   ],
   "source": [
    "# r find - find in reverse direction\n",
    "print (a.rfind(\"z\"))\n",
    "print (a.rfind(\"a\"))"
   ]
  },
  {
   "cell_type": "code",
   "execution_count": 42,
   "id": "45d64add",
   "metadata": {},
   "outputs": [
    {
     "name": "stdout",
     "output_type": "stream",
     "text": [
      "['s', 'chin tendulk', 'r']\n",
      "['s', 'chin tendulkar']\n"
     ]
    }
   ],
   "source": [
    "#split\n",
    "print (a.split(\"a\"))\n",
    "print (a.split(\"a\",1))"
   ]
  },
  {
   "cell_type": "code",
   "execution_count": 19,
   "id": "07392bff",
   "metadata": {},
   "outputs": [
    {
     "name": "stdout",
     "output_type": "stream",
     "text": [
      "s#chin tendulk#r\n",
      "s#chin tendulkar\n"
     ]
    }
   ],
   "source": [
    "#replace\n",
    "print (a.replace(\"a\", \"#\"))\n",
    "print(a.replace(\"a\",\"#\",1))"
   ]
  },
  {
   "cell_type": "code",
   "execution_count": 20,
   "id": "b6a839b7",
   "metadata": {},
   "outputs": [
    {
     "name": "stdout",
     "output_type": "stream",
     "text": [
      "2\n"
     ]
    }
   ],
   "source": [
    "#count\n",
    "print (a.count(\"a\"))"
   ]
  },
  {
   "cell_type": "code",
   "execution_count": 21,
   "id": "51d69826",
   "metadata": {},
   "outputs": [
    {
     "name": "stdout",
     "output_type": "stream",
     "text": [
      "True\n"
     ]
    }
   ],
   "source": [
    "#print starts with\n",
    "print (a.startswith(\"s\"))"
   ]
  },
  {
   "cell_type": "code",
   "execution_count": 22,
   "id": "e8d22d1d",
   "metadata": {},
   "outputs": [
    {
     "name": "stdout",
     "output_type": "stream",
     "text": [
      "True\n"
     ]
    }
   ],
   "source": [
    "#print ends with\n",
    "print (a.endswith(\"r\"))"
   ]
  },
  {
   "cell_type": "code",
   "execution_count": 23,
   "id": "efe67469",
   "metadata": {},
   "outputs": [],
   "source": [
    "## strip will be used to remove the space\n",
    "## strip() will remove space in both end\n",
    "## lstrip() will remove the space in the start\n",
    "## rstrip() will remove the space in the end"
   ]
  },
  {
   "cell_type": "code",
   "execution_count": 24,
   "id": "46d8f013",
   "metadata": {},
   "outputs": [
    {
     "name": "stdout",
     "output_type": "stream",
     "text": [
      "hello welcome\n",
      "hello welcome \n",
      " hello welcome\n"
     ]
    }
   ],
   "source": [
    "a = \" hello welcome \"\n",
    "print(a.strip())\n",
    "print(a.lstrip())\n",
    "print(a.rstrip())"
   ]
  },
  {
   "cell_type": "code",
   "execution_count": 25,
   "id": "b71847b4",
   "metadata": {},
   "outputs": [],
   "source": [
    "##integer\n",
    "a = \"123\"\n",
    "b = 123"
   ]
  },
  {
   "cell_type": "code",
   "execution_count": 27,
   "id": "ebf332bc",
   "metadata": {},
   "outputs": [
    {
     "name": "stdout",
     "output_type": "stream",
     "text": [
      "<class 'str'>\n",
      "<class 'int'>\n"
     ]
    }
   ],
   "source": [
    "print(type(a))\n",
    "print(type(b))"
   ]
  },
  {
   "cell_type": "code",
   "execution_count": 29,
   "id": "21e6dcd2",
   "metadata": {},
   "outputs": [
    {
     "name": "stdout",
     "output_type": "stream",
     "text": [
      "True\n",
      "True\n"
     ]
    }
   ],
   "source": [
    "print(isinstance(a,str))\n",
    "print(isinstance(b,int))"
   ]
  },
  {
   "cell_type": "code",
   "execution_count": 34,
   "id": "262d0f69",
   "metadata": {},
   "outputs": [
    {
     "name": "stdout",
     "output_type": "stream",
     "text": [
      "123\n",
      "<class 'int'>\n"
     ]
    }
   ],
   "source": [
    "## data type casting - change the datatype only if it is valid\n",
    "a = \"123\"\n",
    "b = int(a)\n",
    "print(b)\n",
    "print(type(b))"
   ]
  },
  {
   "cell_type": "code",
   "execution_count": 35,
   "id": "f63b9b1c",
   "metadata": {},
   "outputs": [
    {
     "name": "stdout",
     "output_type": "stream",
     "text": [
      "123.0\n",
      "<class 'float'>\n"
     ]
    }
   ],
   "source": [
    "c = float(a)\n",
    "print(c)\n",
    "print(type(c))"
   ]
  },
  {
   "cell_type": "code",
   "execution_count": 47,
   "id": "3dfb00e7",
   "metadata": {},
   "outputs": [
    {
     "name": "stdout",
     "output_type": "stream",
     "text": [
      "Please enter the number:9842676177\n"
     ]
    }
   ],
   "source": [
    "## get a input as a number from user and check the data type\n",
    "a = int(input (\"Please enter the number:\"))"
   ]
  },
  {
   "cell_type": "code",
   "execution_count": 48,
   "id": "aee11ea2",
   "metadata": {},
   "outputs": [
    {
     "name": "stdout",
     "output_type": "stream",
     "text": [
      "<class 'int'>\n"
     ]
    }
   ],
   "source": [
    "print(type(a))"
   ]
  },
  {
   "cell_type": "code",
   "execution_count": 59,
   "id": "b3b527ba",
   "metadata": {},
   "outputs": [
    {
     "name": "stdout",
     "output_type": "stream",
     "text": [
      "Please enter your mail Id:purushoth@gmail.com\n"
     ]
    }
   ],
   "source": [
    "##get the mail id as input and split the user name & mail type\n",
    "mail_id = input(\"Please enter your mail Id:\")"
   ]
  },
  {
   "cell_type": "code",
   "execution_count": 60,
   "id": "11c80a97",
   "metadata": {},
   "outputs": [
    {
     "name": "stdout",
     "output_type": "stream",
     "text": [
      "purushoth\n",
      "gmail\n"
     ]
    }
   ],
   "source": [
    "a = mail_id.split(\"@\")\n",
    "c = a[1].split(\".\")\n",
    "print(a[0])\n",
    "print(c[0])"
   ]
  },
  {
   "cell_type": "code",
   "execution_count": 61,
   "id": "eb4ad719",
   "metadata": {},
   "outputs": [
    {
     "name": "stdout",
     "output_type": "stream",
     "text": [
      "welcometotodaysclass\n"
     ]
    }
   ],
   "source": [
    "## remove all the character in the strings\n",
    "string = \"welcome to todays class\"\n",
    "print(string.replace(\" \",\"\"))"
   ]
  },
  {
   "cell_type": "code",
   "execution_count": 1,
   "id": "8fa72a1f",
   "metadata": {},
   "outputs": [],
   "source": [
    "a = [\"kiran\", \"25\", \"madurai\"]"
   ]
  },
  {
   "cell_type": "code",
   "execution_count": 2,
   "id": "4269e88d",
   "metadata": {},
   "outputs": [
    {
     "name": "stdout",
     "output_type": "stream",
     "text": [
      "<class 'list'>\n"
     ]
    }
   ],
   "source": [
    "print(type(a))\n"
   ]
  },
  {
   "cell_type": "code",
   "execution_count": 3,
   "id": "b5d86e04",
   "metadata": {},
   "outputs": [
    {
     "ename": "AttributeError",
     "evalue": "'list' object has no attribute 'str'",
     "output_type": "error",
     "traceback": [
      "\u001b[1;31m---------------------------------------------------------------------------\u001b[0m",
      "\u001b[1;31mAttributeError\u001b[0m                            Traceback (most recent call last)",
      "Cell \u001b[1;32mIn[3], line 1\u001b[0m\n\u001b[1;32m----> 1\u001b[0m \u001b[38;5;28mprint\u001b[39m(\u001b[38;5;28misinstance\u001b[39m(\u001b[43ma\u001b[49m\u001b[38;5;241;43m.\u001b[39;49m\u001b[43mstr\u001b[49m))\n",
      "\u001b[1;31mAttributeError\u001b[0m: 'list' object has no attribute 'str'"
     ]
    }
   ],
   "source": [
    "print(isinstance(a.str))"
   ]
  },
  {
   "cell_type": "code",
   "execution_count": 4,
   "id": "bd26f9bf",
   "metadata": {},
   "outputs": [
    {
     "name": "stdout",
     "output_type": "stream",
     "text": [
      "25\n",
      "madurai\n",
      "['25', 'kiran', 'madurai']\n"
     ]
    }
   ],
   "source": [
    "print(min(a))\n",
    "print(max(a))\n",
    "print(sorted(a))"
   ]
  },
  {
   "cell_type": "code",
   "execution_count": 23,
   "id": "d1453310",
   "metadata": {},
   "outputs": [
    {
     "ename": "TypeError",
     "evalue": "'<' not supported between instances of 'int' and 'str'",
     "output_type": "error",
     "traceback": [
      "\u001b[1;31m---------------------------------------------------------------------------\u001b[0m",
      "\u001b[1;31mTypeError\u001b[0m                                 Traceback (most recent call last)",
      "Cell \u001b[1;32mIn[23], line 2\u001b[0m\n\u001b[0;32m      1\u001b[0m a \u001b[38;5;241m=\u001b[39m [\u001b[38;5;124m\"\u001b[39m\u001b[38;5;124mkiran\u001b[39m\u001b[38;5;124m\"\u001b[39m, \u001b[38;5;241m25\u001b[39m, \u001b[38;5;124m\"\u001b[39m\u001b[38;5;124mmadurai\u001b[39m\u001b[38;5;124m\"\u001b[39m]\n\u001b[1;32m----> 2\u001b[0m \u001b[38;5;28mprint\u001b[39m(\u001b[38;5;28;43mmin\u001b[39;49m\u001b[43m(\u001b[49m\u001b[43ma\u001b[49m\u001b[43m)\u001b[49m)\n",
      "\u001b[1;31mTypeError\u001b[0m: '<' not supported between instances of 'int' and 'str'"
     ]
    }
   ],
   "source": [
    "a = [\"kiran\", 25, \"madurai\"]\n",
    "print(min(a))"
   ]
  },
  {
   "cell_type": "code",
   "execution_count": 24,
   "id": "d1e1ed85",
   "metadata": {},
   "outputs": [
    {
     "name": "stdout",
     "output_type": "stream",
     "text": [
      "kiran\n"
     ]
    }
   ],
   "source": [
    "print(a[0])"
   ]
  },
  {
   "cell_type": "code",
   "execution_count": 25,
   "id": "3de83c65",
   "metadata": {},
   "outputs": [
    {
     "name": "stdout",
     "output_type": "stream",
     "text": [
      "['madurai', 25, 'kiran']\n"
     ]
    }
   ],
   "source": [
    "print(a[::-1])"
   ]
  },
  {
   "cell_type": "code",
   "execution_count": 26,
   "id": "e958a943",
   "metadata": {},
   "outputs": [
    {
     "name": "stdout",
     "output_type": "stream",
     "text": [
      "['madurai', 25, 'kiran']\n"
     ]
    }
   ],
   "source": [
    "## To print string in reverse order\n",
    "print(list(reversed(a)))"
   ]
  },
  {
   "cell_type": "code",
   "execution_count": 27,
   "id": "39927254",
   "metadata": {},
   "outputs": [
    {
     "data": {
      "text/plain": [
       "0"
      ]
     },
     "execution_count": 27,
     "metadata": {},
     "output_type": "execute_result"
    }
   ],
   "source": [
    "a.index(\"kiran\")"
   ]
  },
  {
   "cell_type": "code",
   "execution_count": 28,
   "id": "6ea1d258",
   "metadata": {},
   "outputs": [
    {
     "name": "stdout",
     "output_type": "stream",
     "text": [
      "1\n",
      "2\n"
     ]
    }
   ],
   "source": [
    "print(a.index(25))\n",
    "print(a.index(\"madurai\"))"
   ]
  },
  {
   "cell_type": "code",
   "execution_count": 29,
   "id": "9dae632c",
   "metadata": {},
   "outputs": [
    {
     "ename": "AttributeError",
     "evalue": "'list' object has no attribute 'rindex'",
     "output_type": "error",
     "traceback": [
      "\u001b[1;31m---------------------------------------------------------------------------\u001b[0m",
      "\u001b[1;31mAttributeError\u001b[0m                            Traceback (most recent call last)",
      "Cell \u001b[1;32mIn[29], line 4\u001b[0m\n\u001b[0;32m      1\u001b[0m \u001b[38;5;66;03m#rindex and rfind will not work on the list\u001b[39;00m\n\u001b[0;32m      2\u001b[0m \u001b[38;5;66;03m## only index will work in the list\u001b[39;00m\n\u001b[1;32m----> 4\u001b[0m \u001b[38;5;28mprint\u001b[39m(\u001b[43ma\u001b[49m\u001b[38;5;241;43m.\u001b[39;49m\u001b[43mrindex\u001b[49m(\u001b[38;5;124m\"\u001b[39m\u001b[38;5;124mkiran\u001b[39m\u001b[38;5;124m\"\u001b[39m))\n\u001b[0;32m      5\u001b[0m \u001b[38;5;28mprint\u001b[39m(a\u001b[38;5;241m.\u001b[39mrindex(\u001b[38;5;241m25\u001b[39m))\n\u001b[0;32m      6\u001b[0m \u001b[38;5;28mprint\u001b[39m(a\u001b[38;5;241m.\u001b[39mrindex(\u001b[38;5;124m\"\u001b[39m\u001b[38;5;124mmadurai\u001b[39m\u001b[38;5;124m\"\u001b[39m))\n",
      "\u001b[1;31mAttributeError\u001b[0m: 'list' object has no attribute 'rindex'"
     ]
    }
   ],
   "source": [
    "#rindex and rfind will not work on the list\n",
    "## only index will work in the list\n",
    "\n",
    "print(a.rindex(\"kiran\"))\n",
    "print(a.rindex(25))\n",
    "print(a.rindex(\"madurai\"))"
   ]
  },
  {
   "cell_type": "code",
   "execution_count": 30,
   "id": "85e24c87",
   "metadata": {},
   "outputs": [],
   "source": [
    "## for adding and removing below comments will be used\n",
    "## append - to add the element in the last\n",
    "## insert - to add the element in desire place\n",
    "## remove - to remove the specific character in the list\n",
    "## del - delete the element using index value"
   ]
  },
  {
   "cell_type": "code",
   "execution_count": 31,
   "id": "b731df60",
   "metadata": {},
   "outputs": [
    {
     "name": "stdout",
     "output_type": "stream",
     "text": [
      "['kiran', 25, 'madurai', 'test']\n"
     ]
    }
   ],
   "source": [
    "a.append(\"test\")\n",
    "print(a)"
   ]
  },
  {
   "cell_type": "code",
   "execution_count": 32,
   "id": "0ae49e40",
   "metadata": {},
   "outputs": [
    {
     "name": "stdout",
     "output_type": "stream",
     "text": [
      "['kiran', 25, 'demo', 'madurai', 'test']\n"
     ]
    }
   ],
   "source": [
    "a.insert(2,\"demo\")\n",
    "print(a)"
   ]
  },
  {
   "cell_type": "code",
   "execution_count": 33,
   "id": "cc30f79d",
   "metadata": {},
   "outputs": [
    {
     "name": "stdout",
     "output_type": "stream",
     "text": [
      "['kiran', 25, 'demo', 'madurai']\n"
     ]
    }
   ],
   "source": [
    "a.remove(\"test\")\n",
    "print(a)"
   ]
  },
  {
   "cell_type": "code",
   "execution_count": 34,
   "id": "697c01dc",
   "metadata": {},
   "outputs": [
    {
     "name": "stdout",
     "output_type": "stream",
     "text": [
      "['kiran', 25, 'madurai']\n"
     ]
    }
   ],
   "source": [
    "del a[2]\n",
    "print(a)"
   ]
  },
  {
   "cell_type": "code",
   "execution_count": 35,
   "id": "ba6eb659",
   "metadata": {},
   "outputs": [
    {
     "name": "stdout",
     "output_type": "stream",
     "text": [
      "['kiran', 25]\n",
      "madurai\n"
     ]
    }
   ],
   "source": [
    "#pop - move the last element and assign it into the another variable\n",
    "b = a.pop()\n",
    "print(a)\n",
    "print(b)"
   ]
  },
  {
   "cell_type": "code",
   "execution_count": 42,
   "id": "3d4009eb",
   "metadata": {},
   "outputs": [
    {
     "name": "stdout",
     "output_type": "stream",
     "text": [
      "[1, 2, 3, 4]\n",
      "[1, 2, 3, 4]\n"
     ]
    }
   ],
   "source": [
    "## shallow copy - same memory\n",
    "a = [1,2,3]\n",
    "b = a\n",
    "a.append(4)\n",
    "print(a)\n",
    "print(b)"
   ]
  },
  {
   "cell_type": "code",
   "execution_count": 44,
   "id": "c7c82dbc",
   "metadata": {},
   "outputs": [
    {
     "name": "stdout",
     "output_type": "stream",
     "text": [
      "[1, 2, 3, 4]\n",
      "[1, 2, 3]\n"
     ]
    }
   ],
   "source": [
    "##Deep copy - different memory\n",
    "a = [1,2,3]\n",
    "b = a.copy()\n",
    "a.append(4)\n",
    "print(a)\n",
    "print(b)"
   ]
  },
  {
   "cell_type": "code",
   "execution_count": 45,
   "id": "fc2b027e",
   "metadata": {},
   "outputs": [
    {
     "name": "stdout",
     "output_type": "stream",
     "text": [
      "<class 'tuple'>\n"
     ]
    }
   ],
   "source": [
    "#tuble - it can not be modified\n",
    "a = (1,2,3,4)\n",
    "print(type(a))"
   ]
  },
  {
   "cell_type": "code",
   "execution_count": 52,
   "id": "ee68cecf",
   "metadata": {},
   "outputs": [
    {
     "name": "stdout",
     "output_type": "stream",
     "text": [
      "1\n",
      "4\n",
      "[1, 2, 3, 4]\n",
      "0\n",
      "(4, 3, 2, 1)\n"
     ]
    }
   ],
   "source": [
    "## commented line are not work in tuple\n",
    "print(min(a))\n",
    "print(max(a))\n",
    "print(sorted(a))\n",
    "print(a.index(1))\n",
    "# print(a.rindex(1))\n",
    "# print(a.find(1))\n",
    "# print(a.rfind(1))\n",
    "# print(a.reverse())\n",
    "print(a[::-1])\n"
   ]
  },
  {
   "cell_type": "code",
   "execution_count": 53,
   "id": "ba65e870",
   "metadata": {
    "collapsed": true
   },
   "outputs": [
    {
     "ename": "AttributeError",
     "evalue": "'tuple' object has no attribute 'append'",
     "output_type": "error",
     "traceback": [
      "\u001b[1;31m---------------------------------------------------------------------------\u001b[0m",
      "\u001b[1;31mAttributeError\u001b[0m                            Traceback (most recent call last)",
      "Cell \u001b[1;32mIn[53], line 1\u001b[0m\n\u001b[1;32m----> 1\u001b[0m \u001b[43ma\u001b[49m\u001b[38;5;241;43m.\u001b[39;49m\u001b[43mappend\u001b[49m(\u001b[38;5;241m5\u001b[39m)\n",
      "\u001b[1;31mAttributeError\u001b[0m: 'tuple' object has no attribute 'append'"
     ]
    }
   ],
   "source": [
    "a.append(5)"
   ]
  },
  {
   "cell_type": "code",
   "execution_count": 2,
   "id": "a96ab515",
   "metadata": {},
   "outputs": [
    {
     "name": "stdout",
     "output_type": "stream",
     "text": [
      "e\n"
     ]
    }
   ],
   "source": [
    "##\n",
    "#[\"hello\",\"hi\",\"welome\"] -- e take the last letter from the last string.\n",
    "a = [\"hello\", \"hi\", \"welcome\"]\n",
    "b = a.pop()\n",
    "print (b[-1])"
   ]
  },
  {
   "cell_type": "code",
   "execution_count": 1,
   "id": "0b66b7da",
   "metadata": {},
   "outputs": [
    {
     "name": "stdout",
     "output_type": "stream",
     "text": [
      "e\n"
     ]
    }
   ],
   "source": [
    "a = [\"hello\", \"hi\", \"welcome\"]\n",
    "\n",
    "print(a[-1][-1])"
   ]
  },
  {
   "cell_type": "code",
   "execution_count": 1,
   "id": "c661c06b",
   "metadata": {},
   "outputs": [],
   "source": [
    "##set \n",
    "## index, rindex, find will not work\n",
    "a = {1,2,3,4,5,6,3,2,2}"
   ]
  },
  {
   "cell_type": "code",
   "execution_count": 2,
   "id": "88f53b29",
   "metadata": {},
   "outputs": [
    {
     "name": "stdout",
     "output_type": "stream",
     "text": [
      "{1, 2, 3, 4, 5, 6}\n"
     ]
    }
   ],
   "source": [
    "print(a)\n"
   ]
  },
  {
   "cell_type": "code",
   "execution_count": 3,
   "id": "83426f29",
   "metadata": {},
   "outputs": [
    {
     "name": "stdout",
     "output_type": "stream",
     "text": [
      "[1, 2, 3, 4, 5, 6]\n"
     ]
    }
   ],
   "source": [
    "print(sorted(a))"
   ]
  },
  {
   "cell_type": "code",
   "execution_count": 19,
   "id": "ea8f7861",
   "metadata": {},
   "outputs": [],
   "source": [
    "a = {1,2,3,4,5}\n",
    "b = {5,6,7,8,9,10}"
   ]
  },
  {
   "cell_type": "code",
   "execution_count": 20,
   "id": "b4a07bfe",
   "metadata": {},
   "outputs": [
    {
     "name": "stdout",
     "output_type": "stream",
     "text": [
      "{1, 2, 3, 4, 5, 6, 7, 8, 9, 10}\n",
      "{5}\n"
     ]
    }
   ],
   "source": [
    "## union\n",
    "print(a.union(b))\n",
    "## intersection\n",
    "print(a.intersection(b))"
   ]
  },
  {
   "cell_type": "code",
   "execution_count": 22,
   "id": "2cac91aa",
   "metadata": {},
   "outputs": [
    {
     "name": "stdout",
     "output_type": "stream",
     "text": [
      "{1, 2, 3, 4}\n",
      "{6, 7, 8, 9, 10}\n"
     ]
    }
   ],
   "source": [
    "## difference\n",
    "print(a.difference(b))\n",
    "print(b.difference(a))"
   ]
  },
  {
   "cell_type": "code",
   "execution_count": 24,
   "id": "aeb86944",
   "metadata": {},
   "outputs": [
    {
     "name": "stdout",
     "output_type": "stream",
     "text": [
      "True\n",
      "False\n"
     ]
    }
   ],
   "source": [
    "a={1,2,3}\n",
    "b = {1,2,3,4,5,6}\n",
    "## subset\n",
    "print(a.issubset(b))\n",
    "print(b.issubset(a))"
   ]
  },
  {
   "cell_type": "code",
   "execution_count": 25,
   "id": "cc0e3f3c",
   "metadata": {},
   "outputs": [
    {
     "name": "stdout",
     "output_type": "stream",
     "text": [
      "False\n",
      "True\n"
     ]
    }
   ],
   "source": [
    "## superset\n",
    "print(a.issuperset(b))\n",
    "print(b.issuperset(a))"
   ]
  },
  {
   "cell_type": "code",
   "execution_count": 43,
   "id": "ef912f71",
   "metadata": {},
   "outputs": [],
   "source": [
    "## Dictionaries\n",
    "a = {\"name\" : \"arun\", \"age\" : 25, \"loc\" : \"chennai\" }"
   ]
  },
  {
   "cell_type": "code",
   "execution_count": 44,
   "id": "fa923cf3",
   "metadata": {},
   "outputs": [
    {
     "name": "stdout",
     "output_type": "stream",
     "text": [
      "<class 'dict'>\n"
     ]
    }
   ],
   "source": [
    "print(type(a))"
   ]
  },
  {
   "cell_type": "code",
   "execution_count": 45,
   "id": "f6bbc6b7",
   "metadata": {},
   "outputs": [
    {
     "name": "stdout",
     "output_type": "stream",
     "text": [
      "3\n"
     ]
    }
   ],
   "source": [
    "## length take the key value from the dictionary\n",
    "print(len(a))"
   ]
  },
  {
   "cell_type": "code",
   "execution_count": 46,
   "id": "f5e36fbd",
   "metadata": {},
   "outputs": [
    {
     "name": "stdout",
     "output_type": "stream",
     "text": [
      "age\n",
      "name\n",
      "['age', 'loc', 'name']\n"
     ]
    }
   ],
   "source": [
    "print(min(a))\n",
    "print(max(a))\n",
    "print(sorted(a))"
   ]
  },
  {
   "cell_type": "code",
   "execution_count": 47,
   "id": "9ba6c128",
   "metadata": {},
   "outputs": [
    {
     "name": "stdout",
     "output_type": "stream",
     "text": [
      "dict_keys(['name', 'age', 'loc'])\n",
      "dict_values(['arun', 25, 'chennai'])\n",
      "dict_items([('name', 'arun'), ('age', 25), ('loc', 'chennai')])\n"
     ]
    }
   ],
   "source": [
    "print(a.keys()) # to get the keys\n",
    "print(a.values()) # to get the values\n",
    "print(a.items()) ## to get the keys and values in tuples"
   ]
  },
  {
   "cell_type": "code",
   "execution_count": 48,
   "id": "f3c88f2f",
   "metadata": {},
   "outputs": [
    {
     "name": "stdout",
     "output_type": "stream",
     "text": [
      "{'name': 'arun', 'age': 25, 'loc': 'chennai'}\n"
     ]
    }
   ],
   "source": [
    "print(a)"
   ]
  },
  {
   "cell_type": "code",
   "execution_count": 49,
   "id": "fde816cb",
   "metadata": {},
   "outputs": [
    {
     "name": "stdout",
     "output_type": "stream",
     "text": [
      "{'name': 'arun', 'age': 25, 'loc': 'chennai', 'test': 'name'}\n"
     ]
    }
   ],
   "source": [
    "## To add the keys and values in the dictionary\n",
    "a[\"test\"] = \"name\"\n",
    "print(a)"
   ]
  },
  {
   "cell_type": "code",
   "execution_count": 50,
   "id": "384fd22a",
   "metadata": {},
   "outputs": [
    {
     "name": "stdout",
     "output_type": "stream",
     "text": [
      "{'name': 'purushoth', 'age': 25, 'loc': 'chennai', 'test': 'name'}\n"
     ]
    }
   ],
   "source": [
    "a = {'name': 'arun', 'age': 25, 'loc': 'chennai', 'test': 'name', 'name' : 'purushoth'}## if same keys present in the dictionary then last key will only present. last one will be removed.\n",
    "print(a)"
   ]
  },
  {
   "cell_type": "code",
   "execution_count": 51,
   "id": "778f8c98",
   "metadata": {},
   "outputs": [
    {
     "name": "stdout",
     "output_type": "stream",
     "text": [
      "{'name': 'purushoth', 'age': 25, 'loc': 'chennai'}\n"
     ]
    }
   ],
   "source": [
    "#delete\n",
    "del a['test']\n",
    "print(a)"
   ]
  },
  {
   "cell_type": "code",
   "execution_count": 52,
   "id": "1f5185be",
   "metadata": {},
   "outputs": [
    {
     "name": "stdout",
     "output_type": "stream",
     "text": [
      "25\n",
      "25\n"
     ]
    }
   ],
   "source": [
    "## to get the values from dict.\n",
    "print(a[\"age\"])\n",
    "print(a.get('age'))"
   ]
  },
  {
   "cell_type": "code",
   "execution_count": 53,
   "id": "864d8014",
   "metadata": {},
   "outputs": [
    {
     "ename": "KeyError",
     "evalue": "'try'",
     "output_type": "error",
     "traceback": [
      "\u001b[1;31m---------------------------------------------------------------------------\u001b[0m",
      "\u001b[1;31mKeyError\u001b[0m                                  Traceback (most recent call last)",
      "Cell \u001b[1;32mIn[53], line 1\u001b[0m\n\u001b[1;32m----> 1\u001b[0m \u001b[38;5;28mprint\u001b[39m(\u001b[43ma\u001b[49m\u001b[43m[\u001b[49m\u001b[38;5;124;43m'\u001b[39;49m\u001b[38;5;124;43mtry\u001b[39;49m\u001b[38;5;124;43m'\u001b[39;49m\u001b[43m]\u001b[49m)\n",
      "\u001b[1;31mKeyError\u001b[0m: 'try'"
     ]
    }
   ],
   "source": [
    "print(a['try'])\n"
   ]
  },
  {
   "cell_type": "code",
   "execution_count": 54,
   "id": "58359c67",
   "metadata": {},
   "outputs": [
    {
     "name": "stdout",
     "output_type": "stream",
     "text": [
      "None\n"
     ]
    }
   ],
   "source": [
    "print(a.get('try'))"
   ]
  },
  {
   "cell_type": "code",
   "execution_count": 55,
   "id": "2f041a33",
   "metadata": {},
   "outputs": [
    {
     "name": "stdout",
     "output_type": "stream",
     "text": [
      "nothing\n"
     ]
    }
   ],
   "source": [
    "print(a.get('try',\"nothing\"))## "
   ]
  },
  {
   "cell_type": "code",
   "execution_count": 56,
   "id": "71b8aa9a",
   "metadata": {},
   "outputs": [
    {
     "name": "stdout",
     "output_type": "stream",
     "text": [
      "25\n"
     ]
    }
   ],
   "source": [
    "print(a.get('age','nothing'))"
   ]
  },
  {
   "cell_type": "code",
   "execution_count": 58,
   "id": "5986b851",
   "metadata": {},
   "outputs": [
    {
     "name": "stdout",
     "output_type": "stream",
     "text": [
      "('age', 25)\n",
      "{'name': 'purushoth'}\n"
     ]
    }
   ],
   "source": [
    "## to get/remove the last element in the dict.\n",
    "b = a.popitem()\n",
    "print(b)\n",
    "print(a)"
   ]
  },
  {
   "cell_type": "code",
   "execution_count": 1,
   "id": "85b83b0a",
   "metadata": {},
   "outputs": [],
   "source": [
    "## arthmetic operators\n",
    "a=5\n",
    "b = 3"
   ]
  },
  {
   "cell_type": "code",
   "execution_count": 3,
   "id": "913759d1",
   "metadata": {},
   "outputs": [
    {
     "name": "stdout",
     "output_type": "stream",
     "text": [
      "8\n",
      "2\n",
      "15\n",
      "125\n",
      "1.6666666666666667\n",
      "1\n",
      "2\n"
     ]
    }
   ],
   "source": [
    "print(a+b)\n",
    "print(a-b)\n",
    "print(a*b)\n",
    "print(a**b)\n",
    "print(a/b)\n",
    "print(a//b)## floor division gives the Quotient values\n",
    "print(a%b)## modulus gives the remainder values"
   ]
  },
  {
   "cell_type": "code",
   "execution_count": 6,
   "id": "2a3ed2a9",
   "metadata": {},
   "outputs": [
    {
     "name": "stdout",
     "output_type": "stream",
     "text": [
      "False\n",
      "True\n",
      "False\n",
      "True\n",
      "False\n",
      "True\n"
     ]
    }
   ],
   "source": [
    "##relational operator\n",
    "a=5\n",
    "b=3\n",
    "print(a==b) ## equal to\n",
    "print(a!=b)##not equal to\n",
    "print(a<b)##less than\n",
    "print(a>b)##Greater than\n",
    "print(a<=b)##less than or equal to\n",
    "print(a>=b)## greater than or equal to"
   ]
  },
  {
   "cell_type": "code",
   "execution_count": 7,
   "id": "dbf954f4",
   "metadata": {},
   "outputs": [],
   "source": [
    "## assignment operator \"=\"\n",
    "c=7"
   ]
  },
  {
   "cell_type": "code",
   "execution_count": 8,
   "id": "cb3a2c8f",
   "metadata": {},
   "outputs": [
    {
     "name": "stdout",
     "output_type": "stream",
     "text": [
      "True\n",
      "False\n",
      "True\n",
      "True\n",
      "False\n",
      "True\n"
     ]
    }
   ],
   "source": [
    "## Logical operator\n",
    "## AND two condition should be satisfied\n",
    "print(True and True)\n",
    "print(True and False)"
   ]
  },
  {
   "cell_type": "code",
   "execution_count": 9,
   "id": "c4baed74",
   "metadata": {},
   "outputs": [
    {
     "name": "stdout",
     "output_type": "stream",
     "text": [
      "True\n",
      "True\n"
     ]
    }
   ],
   "source": [
    "## OR any one condition should be satisfied\n",
    "print(True or True)\n",
    "print(True or False)"
   ]
  },
  {
   "cell_type": "code",
   "execution_count": 10,
   "id": "3c8d93b3",
   "metadata": {},
   "outputs": [
    {
     "name": "stdout",
     "output_type": "stream",
     "text": [
      "False\n",
      "True\n"
     ]
    }
   ],
   "source": [
    "##NOT operator Reversal\n",
    "print(not True)\n",
    "print(not False)"
   ]
  },
  {
   "cell_type": "code",
   "execution_count": 11,
   "id": "ed920b70",
   "metadata": {},
   "outputs": [],
   "source": [
    "## loops\n",
    "## if\n",
    "## while\n",
    "## for"
   ]
  },
  {
   "cell_type": "code",
   "execution_count": 13,
   "id": "320a653a",
   "metadata": {},
   "outputs": [
    {
     "name": "stdout",
     "output_type": "stream",
     "text": [
      "yes\n"
     ]
    }
   ],
   "source": [
    "## if --> conditional statement\n",
    "name = \"test\"\n",
    "\n",
    "if name == \"test\":\n",
    "    print(\"yes\")\n",
    "else:\n",
    "    print(\"No\")"
   ]
  },
  {
   "cell_type": "code",
   "execution_count": 17,
   "id": "7305166a",
   "metadata": {},
   "outputs": [],
   "source": [
    "## if else statement\n",
    "name = \"Sachin\"\n",
    "score = 80"
   ]
  },
  {
   "cell_type": "code",
   "execution_count": 18,
   "id": "1166b235",
   "metadata": {},
   "outputs": [
    {
     "name": "stdout",
     "output_type": "stream",
     "text": [
      "pass\n"
     ]
    }
   ],
   "source": [
    "if name.lower()== \"sachin\" and score < 50:\n",
    "    print(\"fail\")\n",
    "elif name.lower()== \"sachin\" and score > 50:\n",
    "    print(\"pass\")\n",
    "elif name.lower()== \"sachin\" and score > 75:\n",
    "    print(\"Distinction\")\n",
    "else:\n",
    "    print(\"grade A\")"
   ]
  },
  {
   "cell_type": "code",
   "execution_count": 19,
   "id": "236da125",
   "metadata": {},
   "outputs": [],
   "source": [
    "## if else loop will stop at first condition which satisfy.\n",
    "## if all other condition are fail then only it take the else statement"
   ]
  },
  {
   "cell_type": "code",
   "execution_count": 21,
   "id": "6a58fe4a",
   "metadata": {},
   "outputs": [
    {
     "name": "stdout",
     "output_type": "stream",
     "text": [
      "pass\n"
     ]
    }
   ],
   "source": [
    "## Nested IF loop statement\n",
    "if name.lower() == \"sachin\":\n",
    "    if score <50:\n",
    "        print(\"fail\")\n",
    "    elif score > 50:\n",
    "        print(\"pass\")\n",
    "else:\n",
    "    print(\"name is not sachin\")"
   ]
  },
  {
   "cell_type": "code",
   "execution_count": 1,
   "id": "ad12eba9",
   "metadata": {},
   "outputs": [
    {
     "name": "stdout",
     "output_type": "stream",
     "text": [
      "1\n",
      "2\n",
      "3\n",
      "4\n"
     ]
    }
   ],
   "source": [
    "## while loop\n",
    "## example for while loop\n",
    "i = 1\n",
    "while i<5:\n",
    "    print(i)\n",
    "    i = i+1"
   ]
  },
  {
   "cell_type": "code",
   "execution_count": 2,
   "id": "90139802",
   "metadata": {},
   "outputs": [],
   "source": [
    "## FOR loop\n",
    "a = [\"Hi\", \"Hello\", \"Welcome\"]"
   ]
  },
  {
   "cell_type": "code",
   "execution_count": 1,
   "id": "1f4af1f4",
   "metadata": {},
   "outputs": [],
   "source": [
    "a = {\"name\":\"mugesh\", \"age\":25, \"loc\" : \"chennai\"}"
   ]
  },
  {
   "cell_type": "code",
   "execution_count": 3,
   "id": "6a87fec5",
   "metadata": {},
   "outputs": [
    {
     "name": "stdout",
     "output_type": "stream",
     "text": [
      "Hi\n",
      "Hello\n",
      "Welcome\n"
     ]
    }
   ],
   "source": [
    "for i in a:\n",
    "    print (i)"
   ]
  },
  {
   "cell_type": "code",
   "execution_count": 4,
   "id": "9fa1796b",
   "metadata": {},
   "outputs": [
    {
     "data": {
      "text/plain": [
       "[0, 1, 2, 3, 4]"
      ]
     },
     "execution_count": 4,
     "metadata": {},
     "output_type": "execute_result"
    }
   ],
   "source": [
    "list(range(5))"
   ]
  },
  {
   "cell_type": "code",
   "execution_count": 9,
   "id": "f29049e2",
   "metadata": {},
   "outputs": [
    {
     "name": "stdout",
     "output_type": "stream",
     "text": [
      "0\n",
      "1\n",
      "2\n",
      "3\n",
      "4\n"
     ]
    }
   ],
   "source": [
    "i= list()\n",
    "for i in range(5):\n",
    "    print(i)"
   ]
  },
  {
   "cell_type": "code",
   "execution_count": 11,
   "id": "3e022826",
   "metadata": {},
   "outputs": [
    {
     "name": "stdout",
     "output_type": "stream",
     "text": [
      "5\n",
      "6\n",
      "7\n",
      "8\n",
      "9\n"
     ]
    }
   ],
   "source": [
    "for i in range(5,10):\n",
    "    print(i)\n"
   ]
  },
  {
   "cell_type": "code",
   "execution_count": 12,
   "id": "50aac0ac",
   "metadata": {},
   "outputs": [
    {
     "name": "stdout",
     "output_type": "stream",
     "text": [
      "5\n",
      "7\n",
      "9\n"
     ]
    }
   ],
   "source": [
    "for i in range(5,10,2):\n",
    "    print(i)"
   ]
  },
  {
   "cell_type": "code",
   "execution_count": 2,
   "id": "2c5232c7",
   "metadata": {},
   "outputs": [
    {
     "name": "stdout",
     "output_type": "stream",
     "text": [
      "name\n",
      "age\n",
      "loc\n"
     ]
    }
   ],
   "source": [
    "for i in a.keys():\n",
    "    print(i)"
   ]
  },
  {
   "cell_type": "code",
   "execution_count": 3,
   "id": "06733c91",
   "metadata": {},
   "outputs": [
    {
     "name": "stdout",
     "output_type": "stream",
     "text": [
      "('name', 'mugesh')\n",
      "('age', 25)\n",
      "('loc', 'chennai')\n"
     ]
    }
   ],
   "source": [
    "for i in a.items():\n",
    "    print(i)"
   ]
  },
  {
   "cell_type": "code",
   "execution_count": 5,
   "id": "20925e3c",
   "metadata": {},
   "outputs": [
    {
     "name": "stdout",
     "output_type": "stream",
     "text": [
      "Key is name the value is: mugesh\n",
      "Key is age the value is: 25\n",
      "Key is loc the value is: chennai\n"
     ]
    }
   ],
   "source": [
    "for k,v in a.items():\n",
    "    print(\"Key is\",k,\"the value is:\", v)"
   ]
  },
  {
   "cell_type": "code",
   "execution_count": 7,
   "id": "363978e8",
   "metadata": {},
   "outputs": [
    {
     "name": "stdout",
     "output_type": "stream",
     "text": [
      "please enter a number:20\n",
      "[0, 2, 4, 6, 8, 10, 12, 14, 16, 18]\n"
     ]
    }
   ],
   "source": [
    "## print even number from 0 to specified number\n",
    "## 0,2,4,6,8\n",
    "a = int(input (\"please enter a number:\"))\n",
    "print(list(range(0,a,2)))"
   ]
  },
  {
   "cell_type": "code",
   "execution_count": 15,
   "id": "694eeb21",
   "metadata": {},
   "outputs": [
    {
     "name": "stdout",
     "output_type": "stream",
     "text": [
      "Please enter a number:10\n",
      "[0, 2, 4, 6, 8]\n"
     ]
    }
   ],
   "source": [
    "##\n",
    "l = []\n",
    "b = int(input(\"Please enter a number:\"))\n",
    "## for even numbers\n",
    "for i in range(b):\n",
    "    if (i%2) == 0:\n",
    "        l.append(i)\n",
    "print(l)    "
   ]
  },
  {
   "cell_type": "code",
   "execution_count": 19,
   "id": "35224290",
   "metadata": {},
   "outputs": [
    {
     "name": "stdout",
     "output_type": "stream",
     "text": [
      "Please enter a number:30\n",
      "[1, 3, 5, 7, 9, 11, 13, 15, 17, 19, 21, 23, 25, 27, 29]\n"
     ]
    }
   ],
   "source": [
    "l = []\n",
    "c = int(input(\"Please enter a number:\"))\n",
    "## for printing odd numbers\n",
    "\n",
    "for i in range(c):\n",
    "    if (i%2) == 1:\n",
    "        l.append(i)\n",
    "        \n",
    "print(l)"
   ]
  },
  {
   "cell_type": "code",
   "execution_count": 17,
   "id": "8d665a61",
   "metadata": {},
   "outputs": [],
   "source": [
    "## To get user name and mail in different list without duplicates\n",
    "# a = mail_id.split(\"@\")\n",
    "# c = a[1].split(\".\")\n",
    "# print(a[0])\n",
    "# print(c[0])"
   ]
  },
  {
   "cell_type": "code",
   "execution_count": 7,
   "id": "a8ff1197",
   "metadata": {},
   "outputs": [
    {
     "name": "stdout",
     "output_type": "stream",
     "text": [
      "['Hello', 'train', 'test']\n",
      "['yahoo', 'gmail']\n"
     ]
    }
   ],
   "source": [
    "User_name = set()\n",
    "User_mail = set()\n",
    "\n",
    "a = [\"test@gmail.com\", \"train@gmail.com\", \"Hello@yahoo.com\", \"test@yahoo.com\"]\n",
    "\n",
    "for i in a:\n",
    "     split = i.split(\"@\")\n",
    "     name = split[0]\n",
    "     User_name.add(name)\n",
    "     mail = split[-1].split(\".\")[0]\n",
    "     User_mail. add(mail)\n",
    "    \n",
    "print(list(User_name))\n",
    "print(list(User_mail))"
   ]
  },
  {
   "cell_type": "code",
   "execution_count": 4,
   "id": "6c5dc8a5",
   "metadata": {},
   "outputs": [],
   "source": [
    "## Function\n",
    "def test(a,b):\n",
    "    print(a+b)"
   ]
  },
  {
   "cell_type": "code",
   "execution_count": 6,
   "id": "e75bed29",
   "metadata": {},
   "outputs": [
    {
     "name": "stdout",
     "output_type": "stream",
     "text": [
      "11\n"
     ]
    }
   ],
   "source": [
    "test(5,6)"
   ]
  },
  {
   "cell_type": "code",
   "execution_count": 7,
   "id": "31af06b7",
   "metadata": {},
   "outputs": [],
   "source": [
    "## return to get the input and to exit from the loop\n",
    "def add(a,b):\n",
    "    print(\"before return\")\n",
    "    return(a+b)\n",
    "    print(\"after return\")"
   ]
  },
  {
   "cell_type": "code",
   "execution_count": 9,
   "id": "0debf955",
   "metadata": {},
   "outputs": [
    {
     "name": "stdout",
     "output_type": "stream",
     "text": [
      "before return\n"
     ]
    }
   ],
   "source": [
    "op = add(3,7)"
   ]
  },
  {
   "cell_type": "code",
   "execution_count": 10,
   "id": "d6fd2809",
   "metadata": {},
   "outputs": [
    {
     "name": "stdout",
     "output_type": "stream",
     "text": [
      "10\n"
     ]
    }
   ],
   "source": [
    "print(op)"
   ]
  },
  {
   "cell_type": "code",
   "execution_count": 16,
   "id": "16d373cd",
   "metadata": {},
   "outputs": [
    {
     "name": "stdout",
     "output_type": "stream",
     "text": [
      "test\n",
      "hi\n",
      "hi\n"
     ]
    }
   ],
   "source": [
    "## Local and global variable\n",
    "a = \"test\" ## global variable\n",
    "\n",
    "def test():\n",
    "    global a\n",
    "    a = \"hi\" ## local variable\n",
    "    print(a)\n",
    "\n",
    "print(a)\n",
    "\n",
    "test()\n",
    "\n",
    "print(a)"
   ]
  },
  {
   "cell_type": "code",
   "execution_count": 17,
   "id": "039e3632",
   "metadata": {},
   "outputs": [
    {
     "name": "stdout",
     "output_type": "stream",
     "text": [
      "test\n",
      "hi\n",
      "hi\n"
     ]
    }
   ],
   "source": [
    "## to change local variable to global variable\n",
    "## Local and global variable\n",
    "a = \"test\" ## global variable\n",
    "\n",
    "def test():\n",
    "    global a ## to convert local variable to global variable\n",
    "    a = \"hi\" ## local variable\n",
    "    print(a)\n",
    "\n",
    "print(a)\n",
    "\n",
    "test()\n",
    "\n",
    "print(a)"
   ]
  },
  {
   "cell_type": "code",
   "execution_count": 19,
   "id": "6e7e8f1a",
   "metadata": {},
   "outputs": [],
   "source": [
    "## multiply 3 number\n",
    "\n",
    "def multiply_number(a,b,c):\n",
    "    d = (a*b*c)\n",
    "    return d"
   ]
  },
  {
   "cell_type": "code",
   "execution_count": 20,
   "id": "57ade839",
   "metadata": {},
   "outputs": [
    {
     "data": {
      "text/plain": [
       "84"
      ]
     },
     "execution_count": 20,
     "metadata": {},
     "output_type": "execute_result"
    }
   ],
   "source": [
    "multiply_number(3,7,4)"
   ]
  },
  {
   "cell_type": "code",
   "execution_count": 21,
   "id": "14efce8c",
   "metadata": {},
   "outputs": [],
   "source": [
    "## even/odd based on \n",
    "##multi\n",
    "## first,mid, last name\n",
    "## get input and swap"
   ]
  },
  {
   "cell_type": "code",
   "execution_count": 1,
   "id": "daf46ec2",
   "metadata": {},
   "outputs": [],
   "source": [
    "## TO GET MULTIPLE INPUT IN A FUNCTION USE ARGS\n",
    "def test(*args):## positional arguments\n",
    "    print(args)"
   ]
  },
  {
   "cell_type": "code",
   "execution_count": 2,
   "id": "9aab84fe",
   "metadata": {},
   "outputs": [
    {
     "name": "stdout",
     "output_type": "stream",
     "text": [
      "('name', 'loc', 'age')\n"
     ]
    }
   ],
   "source": [
    "test(\"name\", \"loc\", \"age\")"
   ]
  },
  {
   "cell_type": "code",
   "execution_count": 11,
   "id": "fe79c01a",
   "metadata": {},
   "outputs": [],
   "source": [
    "## to get multiple input as key (set) in function use KARGS\n",
    "def test(**kwargs):\n",
    "    print(kwargs)"
   ]
  },
  {
   "cell_type": "code",
   "execution_count": 12,
   "id": "d40f98b5",
   "metadata": {},
   "outputs": [
    {
     "name": "stdout",
     "output_type": "stream",
     "text": [
      "{'name': 'mugesh', 'age': 25, 'loc': 'chennai'}\n"
     ]
    }
   ],
   "source": [
    "test(name = \"mugesh\", age = 25, loc = \"chennai\")"
   ]
  },
  {
   "cell_type": "code",
   "execution_count": 13,
   "id": "66af4962",
   "metadata": {},
   "outputs": [
    {
     "data": {
      "text/plain": [
       "10"
      ]
     },
     "execution_count": 13,
     "metadata": {},
     "output_type": "execute_result"
    }
   ],
   "source": [
    "##inline function\n",
    "a = lambda a,b: a+b\n",
    "a(5,5)"
   ]
  },
  {
   "cell_type": "code",
   "execution_count": 15,
   "id": "bbf6ccb2",
   "metadata": {},
   "outputs": [
    {
     "name": "stdout",
     "output_type": "stream",
     "text": [
      "9\n"
     ]
    }
   ],
   "source": [
    "def test(a,b):\n",
    "    return a+b\n",
    "c = test(3,6)\n",
    "print(c)"
   ]
  },
  {
   "cell_type": "code",
   "execution_count": 16,
   "id": "1ca8a435",
   "metadata": {},
   "outputs": [
    {
     "data": {
      "text/plain": [
       "90"
      ]
     },
     "execution_count": 16,
     "metadata": {},
     "output_type": "execute_result"
    }
   ],
   "source": [
    "a = lambda a,b,c: a*b*c\n",
    "a(3,5,6)"
   ]
  },
  {
   "cell_type": "code",
   "execution_count": 17,
   "id": "8a3712c4",
   "metadata": {},
   "outputs": [],
   "source": [
    "##positional arguments\n",
    "##keywords arguments"
   ]
  },
  {
   "cell_type": "code",
   "execution_count": 19,
   "id": "12239cc5",
   "metadata": {},
   "outputs": [],
   "source": [
    "## in function define the three arguments, but while calling  pass only two arguments and perform multiply\n",
    "## get name, add, phone as kwargs, parse it  and print\n",
    "## write a lambda to multiply abc,5"
   ]
  },
  {
   "cell_type": "code",
   "execution_count": 6,
   "id": "d8efdf1b",
   "metadata": {},
   "outputs": [
    {
     "name": "stdout",
     "output_type": "stream",
     "text": [
      "<_io.TextIOWrapper name='C:\\\\Users\\\\ELCOT\\\\Desktop\\\\PYTHON\\\\text\\\\EXAMPLE.TXT' mode='r' encoding='cp1252'>\n",
      "hi\n",
      "hello\n",
      "welcome\n"
     ]
    }
   ],
   "source": [
    "##file handling\n",
    "file = open(r\"C:\\Users\\ELCOT\\Desktop\\PYTHON\\text\\EXAMPLE.TXT\", \"r\")\n",
    "print(file)\n",
    "a = file.read()\n",
    "print(a)\n",
    "file.close()\n",
    "\n"
   ]
  },
  {
   "cell_type": "code",
   "execution_count": 3,
   "id": "132f2414",
   "metadata": {},
   "outputs": [],
   "source": [
    "file = open(r\"C:\\Users\\ELCOT\\Desktop\\PYTHON\\EXAMPLE1.TXT\", \"w\")\n",
    "file.write(\"hi\\n\\hello\\nwelcome\")\n",
    "file.close()\n"
   ]
  },
  {
   "cell_type": "code",
   "execution_count": 1,
   "id": "d72b505d",
   "metadata": {},
   "outputs": [],
   "source": [
    "## class\n",
    "class car():\n",
    "    def speed(self):\n",
    "        print(\"car speed\")\n",
    "    def acc(self):\n",
    "        print(\"car acc\")"
   ]
  },
  {
   "cell_type": "code",
   "execution_count": 2,
   "id": "52a443bd",
   "metadata": {},
   "outputs": [],
   "source": [
    "class truck():\n",
    "    def speed(self):\n",
    "        print(\"truck speed\")\n",
    "    def acc(self):\n",
    "        print(\"truck acc\")"
   ]
  },
  {
   "cell_type": "code",
   "execution_count": 3,
   "id": "c9c43563",
   "metadata": {},
   "outputs": [],
   "source": [
    "a = car()"
   ]
  },
  {
   "cell_type": "code",
   "execution_count": 5,
   "id": "394786b8",
   "metadata": {},
   "outputs": [
    {
     "name": "stdout",
     "output_type": "stream",
     "text": [
      "<class '__main__.car'>\n"
     ]
    }
   ],
   "source": [
    "print (car)"
   ]
  },
  {
   "cell_type": "code",
   "execution_count": 6,
   "id": "9eb2bc00",
   "metadata": {},
   "outputs": [
    {
     "name": "stdout",
     "output_type": "stream",
     "text": [
      "<__main__.car object at 0x000001B5A766CDC0>\n"
     ]
    }
   ],
   "source": [
    "print(a)"
   ]
  },
  {
   "cell_type": "code",
   "execution_count": 7,
   "id": "0f291c1e",
   "metadata": {},
   "outputs": [
    {
     "name": "stdout",
     "output_type": "stream",
     "text": [
      "car speed\n"
     ]
    }
   ],
   "source": [
    "a.speed()"
   ]
  },
  {
   "cell_type": "code",
   "execution_count": 24,
   "id": "04334c2d",
   "metadata": {},
   "outputs": [],
   "source": [
    "##calculator\n",
    "\n",
    "class calculator():\n",
    "    def add(self,b=1,c=1):\n",
    "        print(b+c) \n",
    "    def sub(self,b=1,c=1):\n",
    "        print(b-c)\n",
    "    def multiply(self,b=1,c=1):\n",
    "        print(b*c)"
   ]
  },
  {
   "cell_type": "code",
   "execution_count": 25,
   "id": "c8fe306e",
   "metadata": {},
   "outputs": [],
   "source": [
    "a = calculator()"
   ]
  },
  {
   "cell_type": "code",
   "execution_count": 32,
   "id": "cda35db3",
   "metadata": {},
   "outputs": [
    {
     "name": "stdout",
     "output_type": "stream",
     "text": [
      "7\n",
      "4\n",
      "28\n"
     ]
    }
   ],
   "source": [
    "print(a.add(3,4))\n",
    "print(a.sub(8,4))\n",
    "print(a.multiply(4,7))\n"
   ]
  },
  {
   "cell_type": "code",
   "execution_count": 27,
   "id": "04c0c7ac",
   "metadata": {},
   "outputs": [],
   "source": [
    "class calculator():\n",
    "    def add(self,b=1,c=1):\n",
    "        print(b+c) \n",
    "    def sub(self,b=1,c=1):\n",
    "        print(b-c)\n",
    "    def multiply(self,b=1,c=1):\n",
    "        print(b*c)"
   ]
  },
  {
   "cell_type": "code",
   "execution_count": 33,
   "id": "93bae181",
   "metadata": {},
   "outputs": [
    {
     "name": "stdout",
     "output_type": "stream",
     "text": [
      "-6\n"
     ]
    }
   ],
   "source": [
    "a=calculator()\n",
    "print(a.sub(6,12))"
   ]
  },
  {
   "cell_type": "code",
   "execution_count": 38,
   "id": "eda7dd00",
   "metadata": {},
   "outputs": [],
   "source": [
    "class hotel():\n",
    "    \n",
    "    def __init__(self,a): ##constructor\n",
    "        self.a = a\n",
    "    \n",
    "    def floor(self):\n",
    "        if self.a ==1:\n",
    "            print(\"veg floor\")\n",
    "        elif self.a == 2:\n",
    "            print(\"non veg floor\")\n",
    "    \n",
    "    def dish(self):\n",
    "        if self.a ==1:\n",
    "            print(\"veg dish\")\n",
    "        elif self.a == 2:\n",
    "            print(\"non veg dish\")\n",
    "            "
   ]
  },
  {
   "cell_type": "code",
   "execution_count": 39,
   "id": "4bc9fb49",
   "metadata": {},
   "outputs": [],
   "source": [
    "a = hotel(1)"
   ]
  },
  {
   "cell_type": "code",
   "execution_count": 40,
   "id": "e701c907",
   "metadata": {},
   "outputs": [
    {
     "name": "stdout",
     "output_type": "stream",
     "text": [
      "veg floor\n",
      "veg dish\n"
     ]
    }
   ],
   "source": [
    "a.floor()\n",
    "a.dish()"
   ]
  },
  {
   "cell_type": "code",
   "execution_count": 41,
   "id": "e5458412",
   "metadata": {},
   "outputs": [
    {
     "name": "stdout",
     "output_type": "stream",
     "text": [
      "non veg floor\n",
      "non veg dish\n"
     ]
    }
   ],
   "source": [
    "b=hotel(2)\n",
    "b.floor()\n",
    "b.dish()"
   ]
  },
  {
   "cell_type": "code",
   "execution_count": 7,
   "id": "88e1e719",
   "metadata": {},
   "outputs": [],
   "source": [
    "##single inheritence\n",
    "\n",
    "class calc():\n",
    "    def add(self,a,b):\n",
    "        print(a+b)\n",
    "        \n",
    "class calc1(calc):\n",
    "    def sub(self,a,b):\n",
    "        print(a-b)"
   ]
  },
  {
   "cell_type": "code",
   "execution_count": 8,
   "id": "6f64dadc",
   "metadata": {},
   "outputs": [
    {
     "name": "stdout",
     "output_type": "stream",
     "text": [
      "15\n",
      "-3\n"
     ]
    }
   ],
   "source": [
    "a = calc1()\n",
    "\n",
    "a.add(6,9)\n",
    "a.sub(6,9)"
   ]
  },
  {
   "cell_type": "code",
   "execution_count": 11,
   "id": "8ceaa4e7",
   "metadata": {},
   "outputs": [],
   "source": [
    "##multiple inheritence\n",
    "\n",
    "class calc():\n",
    "    def add(self,a,b):\n",
    "        print(a+b)\n",
    "        \n",
    "class calc1(calc):\n",
    "    def sub(self,a,b):\n",
    "        print(a-b)\n",
    "\n",
    "class calc2(calc1):\n",
    "    def mul(self,a,b):\n",
    "        print(a*b)"
   ]
  },
  {
   "cell_type": "code",
   "execution_count": 12,
   "id": "62650513",
   "metadata": {},
   "outputs": [
    {
     "name": "stdout",
     "output_type": "stream",
     "text": [
      "15\n",
      "3\n",
      "54\n"
     ]
    }
   ],
   "source": [
    "a= calc2()\n",
    "\n",
    "a.add(9,6)\n",
    "a.sub(9,6)\n",
    "a.mul(9,6)"
   ]
  },
  {
   "cell_type": "code",
   "execution_count": 13,
   "id": "8913ec46",
   "metadata": {},
   "outputs": [],
   "source": [
    "## multilevel inheritance\n",
    "\n",
    "class calc():\n",
    "    def add(self,a,b):\n",
    "        print(a+b)\n",
    "        \n",
    "class calc1():\n",
    "    def sub(self,a,b):\n",
    "        print(a-b)\n",
    "\n",
    "class calc2(calc,calc1):\n",
    "    def mul(self,a,b):\n",
    "        print(a*b)"
   ]
  },
  {
   "cell_type": "code",
   "execution_count": 14,
   "id": "54af3dc8",
   "metadata": {},
   "outputs": [
    {
     "name": "stdout",
     "output_type": "stream",
     "text": [
      "15\n",
      "3\n",
      "54\n"
     ]
    }
   ],
   "source": [
    "a= calc2()\n",
    "\n",
    "a.add(9,6)\n",
    "a.sub(9,6)\n",
    "a.mul(9,6)"
   ]
  },
  {
   "cell_type": "code",
   "execution_count": 15,
   "id": "542d3a5c",
   "metadata": {},
   "outputs": [],
   "source": [
    "##hirerachical inheritance"
   ]
  },
  {
   "cell_type": "code",
   "execution_count": 23,
   "id": "55ebbc27",
   "metadata": {},
   "outputs": [],
   "source": [
    "class parent():\n",
    "    \n",
    "    def __init__(self):\n",
    "        self.name = \"Parent\"\n",
    "        \n",
    "class child(parent):\n",
    "    def __init__(self):\n",
    "        super().__init__()\n",
    "        self.demo = \"demo\"\n",
    "        \n",
    "    def test(self):\n",
    "        print(\"test\")"
   ]
  },
  {
   "cell_type": "code",
   "execution_count": 26,
   "id": "8a24289d",
   "metadata": {},
   "outputs": [
    {
     "name": "stdout",
     "output_type": "stream",
     "text": [
      "Parent\n",
      "test\n"
     ]
    }
   ],
   "source": [
    "a = child()\n",
    "print(a.name)\n",
    "a.demo\n",
    "a.test()"
   ]
  },
  {
   "cell_type": "code",
   "execution_count": 38,
   "id": "4bd20e46",
   "metadata": {},
   "outputs": [],
   "source": [
    "##multiple hirarchical\n",
    "\n",
    "class parent():\n",
    "    \n",
    "    def __init__(self):\n",
    "        self.name = \"Parent\"\n",
    "        \n",
    "class child():\n",
    "    def __init__(self):\n",
    "        self.demo = \"demo\"\n",
    "    def test(self):\n",
    "        print(\"test\")\n",
    "        \n",
    "class grand_child(parent,child):\n",
    "    def __init__(self):\n",
    "        super().__init__()\n",
    "        super(parent,self).__init__()\n",
    "        self.try1 = \"try\"\n",
    "        \n",
    "    def test1(self):\n",
    "        print(\"test1\")"
   ]
  },
  {
   "cell_type": "code",
   "execution_count": 39,
   "id": "9573c896",
   "metadata": {},
   "outputs": [
    {
     "name": "stdout",
     "output_type": "stream",
     "text": [
      "Parent\n",
      "demo\n",
      "test1\n"
     ]
    },
    {
     "data": {
      "text/plain": [
       "'try'"
      ]
     },
     "execution_count": 39,
     "metadata": {},
     "output_type": "execute_result"
    }
   ],
   "source": [
    "a = grand_child()\n",
    "\n",
    "print(a.name)\n",
    "print(a.demo)\n",
    "a.test1()\n",
    "a.try1"
   ]
  },
  {
   "cell_type": "code",
   "execution_count": 11,
   "id": "b9c01de7",
   "metadata": {},
   "outputs": [],
   "source": []
  },
  {
   "cell_type": "code",
   "execution_count": 12,
   "id": "5ca66195",
   "metadata": {},
   "outputs": [
    {
     "name": "stdout",
     "output_type": "stream",
     "text": [
      "Parent\n",
      "demo\n",
      "test\n"
     ]
    },
    {
     "ename": "NameError",
     "evalue": "name 'test1' is not defined",
     "output_type": "error",
     "traceback": [
      "\u001b[1;31m---------------------------------------------------------------------------\u001b[0m",
      "\u001b[1;31mNameError\u001b[0m                                 Traceback (most recent call last)",
      "Cell \u001b[1;32mIn[12], line 6\u001b[0m\n\u001b[0;32m      4\u001b[0m a\u001b[38;5;241m.\u001b[39mtest()\n\u001b[0;32m      5\u001b[0m \u001b[38;5;66;03m# print(try1)\u001b[39;00m\n\u001b[1;32m----> 6\u001b[0m \u001b[43ma\u001b[49m\u001b[38;5;241;43m.\u001b[39;49m\u001b[43mtest1\u001b[49m\u001b[43m(\u001b[49m\u001b[43m)\u001b[49m\n",
      "Cell \u001b[1;32mIn[11], line 22\u001b[0m, in \u001b[0;36mgrand_parent.test1\u001b[1;34m(self)\u001b[0m\n\u001b[0;32m     21\u001b[0m \u001b[38;5;28;01mdef\u001b[39;00m \u001b[38;5;21mtest1\u001b[39m(\u001b[38;5;28mself\u001b[39m):\n\u001b[1;32m---> 22\u001b[0m     \u001b[38;5;28mprint\u001b[39m(\u001b[43mtest1\u001b[49m)\n",
      "\u001b[1;31mNameError\u001b[0m: name 'test1' is not defined"
     ]
    }
   ],
   "source": [
    "a = grand_parent()\n",
    "print(a.name)\n",
    "print(a.demo)\n",
    "a.test()\n",
    "# print(try1)\n",
    "a.test1()"
   ]
  },
  {
   "cell_type": "code",
   "execution_count": null,
   "id": "d65f1844",
   "metadata": {},
   "outputs": [],
   "source": []
  },
  {
   "cell_type": "code",
   "execution_count": 7,
   "id": "b4dfff7b",
   "metadata": {},
   "outputs": [],
   "source": [
    "## abstract method \n",
    "\n",
    "from abc import ABC, abstractmethod\n",
    "\n",
    "class cricket(ABC):\n",
    "    @abstractmethod\n",
    "    def bat(self):\n",
    "        pass\n",
    "    @abstractmethod\n",
    "    def ball(self):\n",
    "        pass\n",
    "    \n",
    "class play(cricket):\n",
    "    \n",
    "    def bat(self):\n",
    "        print(\"bat\")\n",
    "        \n",
    "    def ball(self):\n",
    "        print(\"ball\")\n",
    "        \n",
    "    def stump(sef):\n",
    "        print(\"stump\")"
   ]
  },
  {
   "cell_type": "code",
   "execution_count": 8,
   "id": "bc940a2e",
   "metadata": {},
   "outputs": [],
   "source": [
    "a = play()"
   ]
  },
  {
   "cell_type": "code",
   "execution_count": 10,
   "id": "f3ef9bba",
   "metadata": {},
   "outputs": [
    {
     "ename": "TypeError",
     "evalue": "Can't instantiate abstract class play with abstract method ball",
     "output_type": "error",
     "traceback": [
      "\u001b[1;31m---------------------------------------------------------------------------\u001b[0m",
      "\u001b[1;31mTypeError\u001b[0m                                 Traceback (most recent call last)",
      "Cell \u001b[1;32mIn[10], line 22\u001b[0m\n\u001b[0;32m     19\u001b[0m     \u001b[38;5;28;01mdef\u001b[39;00m \u001b[38;5;21mstump\u001b[39m(sef):\n\u001b[0;32m     20\u001b[0m         \u001b[38;5;28mprint\u001b[39m(\u001b[38;5;124m\"\u001b[39m\u001b[38;5;124mstump\u001b[39m\u001b[38;5;124m\"\u001b[39m)\n\u001b[1;32m---> 22\u001b[0m a \u001b[38;5;241m=\u001b[39m\u001b[43mplay\u001b[49m\u001b[43m(\u001b[49m\u001b[43m)\u001b[49m\n",
      "\u001b[1;31mTypeError\u001b[0m: Can't instantiate abstract class play with abstract method ball"
     ]
    }
   ],
   "source": [
    "\n",
    "from abc import ABC, abstractmethod\n",
    "\n",
    "class cricket(ABC):\n",
    "    @abstractmethod\n",
    "    def bat(self):\n",
    "        pass\n",
    "    @abstractmethod\n",
    "    def ball(self):\n",
    "        pass\n",
    "    \n",
    "class play(cricket):\n",
    "    \n",
    "    def bat(self):\n",
    "        print(\"bat\")\n",
    "        \n",
    "    def ball1(self):\n",
    "        print(\"ball\")\n",
    "        \n",
    "    def stump(sef):\n",
    "        print(\"stump\")\n",
    "        \n",
    "a =play()"
   ]
  },
  {
   "cell_type": "code",
   "execution_count": 1,
   "id": "792e7262",
   "metadata": {},
   "outputs": [],
   "source": [
    "## encapulation\n",
    "\n",
    "## public: can be used or changed anywhere (inside or outside the class)\n",
    "## Protected:  can be used or changed only by the parent or child classes. It starts with _\n",
    "## Private:  can be used or changed only by the parent class. it starts with __"
   ]
  },
  {
   "cell_type": "code",
   "execution_count": 2,
   "id": "6c2cfdeb",
   "metadata": {},
   "outputs": [],
   "source": [
    "## public class\n",
    "\n",
    "class parent():\n",
    "    \n",
    "    def __init__(self):\n",
    "        self.name = \"Parent\""
   ]
  },
  {
   "cell_type": "code",
   "execution_count": 4,
   "id": "eb7c5f5d",
   "metadata": {},
   "outputs": [
    {
     "data": {
      "text/plain": [
       "'Parent'"
      ]
     },
     "execution_count": 4,
     "metadata": {},
     "output_type": "execute_result"
    }
   ],
   "source": [
    "a = parent()\n",
    "a.name"
   ]
  },
  {
   "cell_type": "code",
   "execution_count": 7,
   "id": "fedfda62",
   "metadata": {},
   "outputs": [
    {
     "name": "stdout",
     "output_type": "stream",
     "text": [
      "child\n"
     ]
    }
   ],
   "source": [
    "a.name = \"child\" ## Public can be changed anywhere\n",
    "print(a.name)"
   ]
  },
  {
   "cell_type": "code",
   "execution_count": 24,
   "id": "b628b43a",
   "metadata": {},
   "outputs": [],
   "source": [
    "## private method\n",
    "\n",
    "class parent():\n",
    "    \n",
    "    def __init__(self):\n",
    "        self.__name = \"Parent\""
   ]
  },
  {
   "cell_type": "code",
   "execution_count": 25,
   "id": "d6dad7b1",
   "metadata": {},
   "outputs": [
    {
     "ename": "AttributeError",
     "evalue": "'parent' object has no attribute 'name'",
     "output_type": "error",
     "traceback": [
      "\u001b[1;31m---------------------------------------------------------------------------\u001b[0m",
      "\u001b[1;31mAttributeError\u001b[0m                            Traceback (most recent call last)",
      "Cell \u001b[1;32mIn[25], line 2\u001b[0m\n\u001b[0;32m      1\u001b[0m a\u001b[38;5;241m=\u001b[39m parent()\n\u001b[1;32m----> 2\u001b[0m \u001b[43ma\u001b[49m\u001b[38;5;241;43m.\u001b[39;49m\u001b[43mname\u001b[49m\n",
      "\u001b[1;31mAttributeError\u001b[0m: 'parent' object has no attribute 'name'"
     ]
    }
   ],
   "source": [
    "a= parent()\n",
    "a.name"
   ]
  },
  {
   "cell_type": "code",
   "execution_count": 26,
   "id": "0a1f9f43",
   "metadata": {},
   "outputs": [],
   "source": [
    "class parent():\n",
    "    \n",
    "    def __init__(self):\n",
    "        self.__name = \"Parent\"\n",
    "        \n",
    "    def display(self):\n",
    "        print(self.__name)\n",
    "    \n",
    "    def change(self,a):\n",
    "        self.__name = a\n",
    "        \n"
   ]
  },
  {
   "cell_type": "code",
   "execution_count": 27,
   "id": "082fcf1f",
   "metadata": {},
   "outputs": [],
   "source": [
    "a = parent()"
   ]
  },
  {
   "cell_type": "code",
   "execution_count": 28,
   "id": "00230670",
   "metadata": {},
   "outputs": [
    {
     "name": "stdout",
     "output_type": "stream",
     "text": [
      "Parent\n"
     ]
    }
   ],
   "source": [
    "a.display()"
   ]
  },
  {
   "cell_type": "code",
   "execution_count": 29,
   "id": "eabaca28",
   "metadata": {},
   "outputs": [
    {
     "name": "stdout",
     "output_type": "stream",
     "text": [
      "child\n"
     ]
    }
   ],
   "source": [
    "a.change(\"child\")\n",
    "a.display()"
   ]
  },
  {
   "cell_type": "code",
   "execution_count": 30,
   "id": "23496726",
   "metadata": {},
   "outputs": [],
   "source": [
    "## types of OOPS concept\n",
    "#Inheritence\n",
    "#Encapulation\n",
    "#polymhorphism\n",
    "#abstract"
   ]
  },
  {
   "cell_type": "code",
   "execution_count": 1,
   "id": "5dfc5b85",
   "metadata": {},
   "outputs": [
    {
     "name": "stdout",
     "output_type": "stream",
     "text": [
      "[0, 2, 4, 6, 8]\n"
     ]
    }
   ],
   "source": [
    "l = []\n",
    "\n",
    "for i in range(10):\n",
    "    if i%2 ==0:\n",
    "        l.append(i)\n",
    "        \n",
    "print(l)"
   ]
  },
  {
   "cell_type": "code",
   "execution_count": 1,
   "id": "8bc98211",
   "metadata": {},
   "outputs": [],
   "source": [
    "## types of variable\n",
    "\n",
    "class test():\n",
    "    name = \"Demo\" #static variable\n",
    "    \n",
    "    def __init__(self,a):\n",
    "        self.a = a  #instance  variables\n",
    "        \n",
    "    def car(self):\n",
    "        b = \"try\" # local variable\n",
    "        print(\"car\")\n"
   ]
  },
  {
   "cell_type": "code",
   "execution_count": 5,
   "id": "90bc946b",
   "metadata": {},
   "outputs": [
    {
     "name": "stdout",
     "output_type": "stream",
     "text": [
      "car\n",
      "None\n"
     ]
    }
   ],
   "source": [
    "a = test(\"asjf\")\n",
    "#a - reference variables\n",
    "print(a.car())"
   ]
  },
  {
   "cell_type": "code",
   "execution_count": 10,
   "id": "a6ae39d8",
   "metadata": {},
   "outputs": [],
   "source": [
    "##static method\n",
    "\n",
    "class calc():\n",
    "    \n",
    "    def __init__(self):\n",
    "        self.name = 'age'\n",
    "    \n",
    "    def add(self):\n",
    "        print(\"add\")\n",
    "        \n",
    "    def sub(self):\n",
    "        print(\"sub\")\n",
    "        \n",
    "    def test():##static method (it can not be used in instance of a class)\n",
    "        print(\"test\")"
   ]
  },
  {
   "cell_type": "code",
   "execution_count": 11,
   "id": "e400d8ab",
   "metadata": {},
   "outputs": [
    {
     "name": "stdout",
     "output_type": "stream",
     "text": [
      "add\n",
      "None\n"
     ]
    }
   ],
   "source": [
    "a = calc()\n",
    "print(a.add())"
   ]
  },
  {
   "cell_type": "code",
   "execution_count": 12,
   "id": "b88d95ab",
   "metadata": {},
   "outputs": [
    {
     "name": "stdout",
     "output_type": "stream",
     "text": [
      "test\n"
     ]
    }
   ],
   "source": [
    "calc.test()## without calling static function will be used directly"
   ]
  },
  {
   "cell_type": "code",
   "execution_count": 2,
   "id": "2e9062db",
   "metadata": {},
   "outputs": [],
   "source": [
    "##bubble sorting\n",
    "\n",
    "a = [5,3,4,2,1]"
   ]
  },
  {
   "cell_type": "code",
   "execution_count": 3,
   "id": "58705c38",
   "metadata": {},
   "outputs": [
    {
     "name": "stdout",
     "output_type": "stream",
     "text": [
      "[3, 5, 4, 2, 1]\n",
      "[3, 4, 5, 2, 1]\n",
      "[3, 4, 2, 5, 1]\n",
      "[3, 4, 2, 1, 5]\n",
      "*********\n",
      "[3, 4, 2, 1, 5]\n",
      "[3, 2, 4, 1, 5]\n",
      "[3, 2, 1, 4, 5]\n",
      "*********\n",
      "[2, 3, 1, 4, 5]\n",
      "[2, 1, 3, 4, 5]\n",
      "*********\n",
      "[1, 2, 3, 4, 5]\n",
      "*********\n",
      "*********\n"
     ]
    }
   ],
   "source": [
    "for i in range(len(a)):\n",
    "    for j in range(0,len(a)-i-1):\n",
    "        if a[j] > a[j+1]:\n",
    "            a[j], a[j+1] = a[j+1], a[j]\n",
    "        print(a)\n",
    "    print(\"*********\")"
   ]
  },
  {
   "cell_type": "code",
   "execution_count": 9,
   "id": "8d67fbbd",
   "metadata": {},
   "outputs": [
    {
     "name": "stdout",
     "output_type": "stream",
     "text": [
      "0\n",
      "1\n",
      "2\n",
      "3\n",
      "****\n",
      "0\n",
      "1\n",
      "2\n",
      "****\n",
      "0\n",
      "1\n",
      "****\n",
      "0\n",
      "****\n",
      "****\n"
     ]
    }
   ],
   "source": [
    "for i in range(len(a)):\n",
    "    for j in range(0,len(a)-i-1):\n",
    "        \n",
    "        print(j)\n",
    "    print(\"****\")\n",
    "\n"
   ]
  },
  {
   "cell_type": "code",
   "execution_count": null,
   "id": "d25d219c",
   "metadata": {},
   "outputs": [],
   "source": []
  }
 ],
 "metadata": {
  "kernelspec": {
   "display_name": "Python 3 (ipykernel)",
   "language": "python",
   "name": "python3"
  },
  "language_info": {
   "codemirror_mode": {
    "name": "ipython",
    "version": 3
   },
   "file_extension": ".py",
   "mimetype": "text/x-python",
   "name": "python",
   "nbconvert_exporter": "python",
   "pygments_lexer": "ipython3",
   "version": "3.11.3"
  }
 },
 "nbformat": 4,
 "nbformat_minor": 5
}
